{
 "cells": [
  {
   "cell_type": "markdown",
   "id": "046cb292",
   "metadata": {},
   "source": [
    "## Boom Bikes Linear Regression Assignment \n",
    "### Introduction: \n",
    "\n",
    "Boob Bikes is a US bike-sharing provider in which bikes are made available for shared use to individuals on a short term basis for a price or free. Many bike share systems allow people to borrow a bike from a \"dock\" which is usually computer-controlled wherein the user enters the payment information, and the system unlocks it. This bike can then be returned to another dock belonging to the same system.\n",
    "\n",
    "### Problem Statement: \n",
    "\n",
    "The company whats to understand the factors on which the demand for these shared bikes depends. Specifically, they want to understand the factors affecting the demand for these shared bikes in the American market. The company wants to know:\n",
    "- Which variables are significant in predicting the demand for shared bikes.\n",
    "- How well those variables describe the bike demands\n",
    "\n",
    "### The steps followed in this exercise are as follows:\n",
    "\n",
    "1. Data Exploration and cleaning\n",
    "2. Analysis on categorical variables\n",
    "3. Visualizing the data- EDA\n",
    "4. Preparing data for Machine Learning\n",
    "5. Splitting Train & Test\n",
    "6. Model Building\n",
    "7. Model Interpretation\n",
    "8. Residual Analysis\n",
    "9. Making Predictions Using the Final Model\n",
    "10. Model Evaluation"
   ]
  },
  {
   "cell_type": "markdown",
   "id": "771ff871",
   "metadata": {},
   "source": [
    "### Importing the nessasary Libraries"
   ]
  },
  {
   "cell_type": "code",
   "execution_count": 328,
   "id": "e7fb79a5",
   "metadata": {
    "ExecuteTime": {
     "end_time": "2022-07-13T14:06:53.270514Z",
     "start_time": "2022-07-13T14:06:50.259743Z"
    }
   },
   "outputs": [],
   "source": [
    "import numpy as np\n",
    "import pandas as pd\n",
    "import datetime\n",
    "import calendar\n",
    "import matplotlib.pyplot as plt\n",
    "import seaborn as sns\n",
    "import warnings\n",
    "warnings.filterwarnings('ignore')\n",
    "from sklearn.model_selection import train_test_split\n",
    "from sklearn.preprocessing import MinMaxScaler\n",
    "from sklearn.feature_selection import RFE\n",
    "from sklearn.linear_model import LinearRegression\n",
    "import statsmodels.api as sm\n",
    "from statsmodels.stats.outliers_influence import variance_inflation_factor\n",
    "from sklearn.metrics import r2_score"
   ]
  },
  {
   "cell_type": "markdown",
   "id": "ef12e1bc",
   "metadata": {
    "ExecuteTime": {
     "end_time": "2022-07-07T10:21:53.102136Z",
     "start_time": "2022-07-07T10:21:53.084457Z"
    }
   },
   "source": [
    "### 1. Data Exploration and cleaning"
   ]
  },
  {
   "cell_type": "code",
   "execution_count": 329,
   "id": "5d737773",
   "metadata": {
    "ExecuteTime": {
     "end_time": "2022-07-13T14:06:53.429159Z",
     "start_time": "2022-07-13T14:06:53.275531Z"
    }
   },
   "outputs": [
    {
     "data": {
      "text/html": [
       "<div>\n",
       "<style scoped>\n",
       "    .dataframe tbody tr th:only-of-type {\n",
       "        vertical-align: middle;\n",
       "    }\n",
       "\n",
       "    .dataframe tbody tr th {\n",
       "        vertical-align: top;\n",
       "    }\n",
       "\n",
       "    .dataframe thead th {\n",
       "        text-align: right;\n",
       "    }\n",
       "</style>\n",
       "<table border=\"1\" class=\"dataframe\">\n",
       "  <thead>\n",
       "    <tr style=\"text-align: right;\">\n",
       "      <th></th>\n",
       "      <th>instant</th>\n",
       "      <th>dteday</th>\n",
       "      <th>season</th>\n",
       "      <th>yr</th>\n",
       "      <th>mnth</th>\n",
       "      <th>holiday</th>\n",
       "      <th>weekday</th>\n",
       "      <th>workingday</th>\n",
       "      <th>weathersit</th>\n",
       "      <th>temp</th>\n",
       "      <th>atemp</th>\n",
       "      <th>hum</th>\n",
       "      <th>windspeed</th>\n",
       "      <th>casual</th>\n",
       "      <th>registered</th>\n",
       "      <th>cnt</th>\n",
       "    </tr>\n",
       "  </thead>\n",
       "  <tbody>\n",
       "    <tr>\n",
       "      <th>0</th>\n",
       "      <td>1</td>\n",
       "      <td>01-01-2018</td>\n",
       "      <td>1</td>\n",
       "      <td>0</td>\n",
       "      <td>1</td>\n",
       "      <td>0</td>\n",
       "      <td>6</td>\n",
       "      <td>0</td>\n",
       "      <td>2</td>\n",
       "      <td>14.110847</td>\n",
       "      <td>18.18125</td>\n",
       "      <td>80.5833</td>\n",
       "      <td>10.749882</td>\n",
       "      <td>331</td>\n",
       "      <td>654</td>\n",
       "      <td>985</td>\n",
       "    </tr>\n",
       "    <tr>\n",
       "      <th>1</th>\n",
       "      <td>2</td>\n",
       "      <td>02-01-2018</td>\n",
       "      <td>1</td>\n",
       "      <td>0</td>\n",
       "      <td>1</td>\n",
       "      <td>0</td>\n",
       "      <td>0</td>\n",
       "      <td>0</td>\n",
       "      <td>2</td>\n",
       "      <td>14.902598</td>\n",
       "      <td>17.68695</td>\n",
       "      <td>69.6087</td>\n",
       "      <td>16.652113</td>\n",
       "      <td>131</td>\n",
       "      <td>670</td>\n",
       "      <td>801</td>\n",
       "    </tr>\n",
       "    <tr>\n",
       "      <th>2</th>\n",
       "      <td>3</td>\n",
       "      <td>03-01-2018</td>\n",
       "      <td>1</td>\n",
       "      <td>0</td>\n",
       "      <td>1</td>\n",
       "      <td>0</td>\n",
       "      <td>1</td>\n",
       "      <td>1</td>\n",
       "      <td>1</td>\n",
       "      <td>8.050924</td>\n",
       "      <td>9.47025</td>\n",
       "      <td>43.7273</td>\n",
       "      <td>16.636703</td>\n",
       "      <td>120</td>\n",
       "      <td>1229</td>\n",
       "      <td>1349</td>\n",
       "    </tr>\n",
       "    <tr>\n",
       "      <th>3</th>\n",
       "      <td>4</td>\n",
       "      <td>04-01-2018</td>\n",
       "      <td>1</td>\n",
       "      <td>0</td>\n",
       "      <td>1</td>\n",
       "      <td>0</td>\n",
       "      <td>2</td>\n",
       "      <td>1</td>\n",
       "      <td>1</td>\n",
       "      <td>8.200000</td>\n",
       "      <td>10.60610</td>\n",
       "      <td>59.0435</td>\n",
       "      <td>10.739832</td>\n",
       "      <td>108</td>\n",
       "      <td>1454</td>\n",
       "      <td>1562</td>\n",
       "    </tr>\n",
       "    <tr>\n",
       "      <th>4</th>\n",
       "      <td>5</td>\n",
       "      <td>05-01-2018</td>\n",
       "      <td>1</td>\n",
       "      <td>0</td>\n",
       "      <td>1</td>\n",
       "      <td>0</td>\n",
       "      <td>3</td>\n",
       "      <td>1</td>\n",
       "      <td>1</td>\n",
       "      <td>9.305237</td>\n",
       "      <td>11.46350</td>\n",
       "      <td>43.6957</td>\n",
       "      <td>12.522300</td>\n",
       "      <td>82</td>\n",
       "      <td>1518</td>\n",
       "      <td>1600</td>\n",
       "    </tr>\n",
       "  </tbody>\n",
       "</table>\n",
       "</div>"
      ],
      "text/plain": [
       "   instant      dteday  season  yr  mnth  holiday  weekday  workingday  \\\n",
       "0        1  01-01-2018       1   0     1        0        6           0   \n",
       "1        2  02-01-2018       1   0     1        0        0           0   \n",
       "2        3  03-01-2018       1   0     1        0        1           1   \n",
       "3        4  04-01-2018       1   0     1        0        2           1   \n",
       "4        5  05-01-2018       1   0     1        0        3           1   \n",
       "\n",
       "   weathersit       temp     atemp      hum  windspeed  casual  registered  \\\n",
       "0           2  14.110847  18.18125  80.5833  10.749882     331         654   \n",
       "1           2  14.902598  17.68695  69.6087  16.652113     131         670   \n",
       "2           1   8.050924   9.47025  43.7273  16.636703     120        1229   \n",
       "3           1   8.200000  10.60610  59.0435  10.739832     108        1454   \n",
       "4           1   9.305237  11.46350  43.6957  12.522300      82        1518   \n",
       "\n",
       "    cnt  \n",
       "0   985  \n",
       "1   801  \n",
       "2  1349  \n",
       "3  1562  \n",
       "4  1600  "
      ]
     },
     "execution_count": 329,
     "metadata": {},
     "output_type": "execute_result"
    }
   ],
   "source": [
    "data = pd.read_csv('day.csv')\n",
    "data.head()"
   ]
  },
  {
   "cell_type": "code",
   "execution_count": 330,
   "id": "de230573",
   "metadata": {
    "ExecuteTime": {
     "end_time": "2022-07-13T14:06:53.446909Z",
     "start_time": "2022-07-13T14:06:53.434310Z"
    }
   },
   "outputs": [
    {
     "data": {
      "text/plain": [
       "(730, 16)"
      ]
     },
     "execution_count": 330,
     "metadata": {},
     "output_type": "execute_result"
    }
   ],
   "source": [
    "# Checking the shape\n",
    "data.shape"
   ]
  },
  {
   "cell_type": "code",
   "execution_count": 331,
   "id": "150a2437",
   "metadata": {
    "ExecuteTime": {
     "end_time": "2022-07-13T14:06:53.474068Z",
     "start_time": "2022-07-13T14:06:53.450786Z"
    }
   },
   "outputs": [
    {
     "data": {
      "text/plain": [
       "instant       0\n",
       "dteday        0\n",
       "season        0\n",
       "yr            0\n",
       "mnth          0\n",
       "holiday       0\n",
       "weekday       0\n",
       "workingday    0\n",
       "weathersit    0\n",
       "temp          0\n",
       "atemp         0\n",
       "hum           0\n",
       "windspeed     0\n",
       "casual        0\n",
       "registered    0\n",
       "cnt           0\n",
       "dtype: int64"
      ]
     },
     "execution_count": 331,
     "metadata": {},
     "output_type": "execute_result"
    }
   ],
   "source": [
    "# Missing Value checks\n",
    "data.isna().sum()"
   ]
  },
  {
   "cell_type": "code",
   "execution_count": 332,
   "id": "83cb9c5d",
   "metadata": {
    "ExecuteTime": {
     "end_time": "2022-07-13T14:06:53.522989Z",
     "start_time": "2022-07-13T14:06:53.484248Z"
    }
   },
   "outputs": [
    {
     "data": {
      "text/plain": [
       "(730, 16)"
      ]
     },
     "execution_count": 332,
     "metadata": {},
     "output_type": "execute_result"
    }
   ],
   "source": [
    "# Dropping the duplicates if any\n",
    "data.drop_duplicates(inplace=True)\n",
    "data.shape"
   ]
  },
  {
   "cell_type": "code",
   "execution_count": 333,
   "id": "9e40f921",
   "metadata": {
    "ExecuteTime": {
     "end_time": "2022-07-13T14:06:53.567868Z",
     "start_time": "2022-07-13T14:06:53.526003Z"
    }
   },
   "outputs": [
    {
     "name": "stdout",
     "output_type": "stream",
     "text": [
      "<class 'pandas.core.frame.DataFrame'>\n",
      "Int64Index: 730 entries, 0 to 729\n",
      "Data columns (total 16 columns):\n",
      " #   Column      Non-Null Count  Dtype  \n",
      "---  ------      --------------  -----  \n",
      " 0   instant     730 non-null    int64  \n",
      " 1   dteday      730 non-null    object \n",
      " 2   season      730 non-null    int64  \n",
      " 3   yr          730 non-null    int64  \n",
      " 4   mnth        730 non-null    int64  \n",
      " 5   holiday     730 non-null    int64  \n",
      " 6   weekday     730 non-null    int64  \n",
      " 7   workingday  730 non-null    int64  \n",
      " 8   weathersit  730 non-null    int64  \n",
      " 9   temp        730 non-null    float64\n",
      " 10  atemp       730 non-null    float64\n",
      " 11  hum         730 non-null    float64\n",
      " 12  windspeed   730 non-null    float64\n",
      " 13  casual      730 non-null    int64  \n",
      " 14  registered  730 non-null    int64  \n",
      " 15  cnt         730 non-null    int64  \n",
      "dtypes: float64(4), int64(11), object(1)\n",
      "memory usage: 97.0+ KB\n"
     ]
    }
   ],
   "source": [
    "#Data type checks for all columns\n",
    "data.info()"
   ]
  },
  {
   "cell_type": "markdown",
   "id": "9d110522",
   "metadata": {
    "ExecuteTime": {
     "end_time": "2022-07-07T10:33:52.811765Z",
     "start_time": "2022-07-07T10:33:52.781087Z"
    }
   },
   "source": [
    "## 2. Analysis on categorical variables"
   ]
  },
  {
   "cell_type": "markdown",
   "id": "d65ac173",
   "metadata": {},
   "source": [
    "From the data dictionary we get to know that 0 indicates either weekend or holiday we checked the day for the first entry that is 01-01-2018"
   ]
  },
  {
   "cell_type": "code",
   "execution_count": 334,
   "id": "9056e9be",
   "metadata": {
    "ExecuteTime": {
     "end_time": "2022-07-13T14:06:53.586961Z",
     "start_time": "2022-07-13T14:06:53.575122Z"
    }
   },
   "outputs": [
    {
     "name": "stdout",
     "output_type": "stream",
     "text": [
      "Monday\n"
     ]
    }
   ],
   "source": [
    "# Getting the exact day on 01-01-2018\n",
    "date ='01-01-2018'\n",
    "day = datetime.datetime.strptime(date, '%d-%m-%Y').weekday()\n",
    "print(calendar.day_name[day])"
   ]
  },
  {
   "cell_type": "markdown",
   "id": "61e13833",
   "metadata": {},
   "source": [
    "But for the first record dated 01-01-2018 we see the column weekday represents 6 which means its Saturday as per Data Dictionary. We could also find some pattern that is 5 1's & 2 0's in the column workingday which means 5 weekdays and 2 weekends. This pattern is continous through out the data.\n",
    "\n",
    "-Now we got into a confusion, Do we need map the first day as Monday or Saturday?"
   ]
  },
  {
   "cell_type": "code",
   "execution_count": 335,
   "id": "e7d490db",
   "metadata": {
    "ExecuteTime": {
     "end_time": "2022-07-13T14:06:53.659026Z",
     "start_time": "2022-07-13T14:06:53.594213Z"
    }
   },
   "outputs": [
    {
     "data": {
      "text/html": [
       "<div>\n",
       "<style scoped>\n",
       "    .dataframe tbody tr th:only-of-type {\n",
       "        vertical-align: middle;\n",
       "    }\n",
       "\n",
       "    .dataframe tbody tr th {\n",
       "        vertical-align: top;\n",
       "    }\n",
       "\n",
       "    .dataframe thead th {\n",
       "        text-align: right;\n",
       "    }\n",
       "</style>\n",
       "<table border=\"1\" class=\"dataframe\">\n",
       "  <thead>\n",
       "    <tr style=\"text-align: right;\">\n",
       "      <th></th>\n",
       "      <th>instant</th>\n",
       "      <th>dteday</th>\n",
       "      <th>season</th>\n",
       "      <th>yr</th>\n",
       "      <th>mnth</th>\n",
       "      <th>holiday</th>\n",
       "      <th>weekday</th>\n",
       "      <th>workingday</th>\n",
       "      <th>weathersit</th>\n",
       "      <th>temp</th>\n",
       "      <th>atemp</th>\n",
       "      <th>hum</th>\n",
       "      <th>windspeed</th>\n",
       "      <th>casual</th>\n",
       "      <th>registered</th>\n",
       "      <th>cnt</th>\n",
       "    </tr>\n",
       "  </thead>\n",
       "  <tbody>\n",
       "    <tr>\n",
       "      <th>0</th>\n",
       "      <td>1</td>\n",
       "      <td>01-01-2018</td>\n",
       "      <td>1</td>\n",
       "      <td>0</td>\n",
       "      <td>1</td>\n",
       "      <td>0</td>\n",
       "      <td>6</td>\n",
       "      <td>0</td>\n",
       "      <td>2</td>\n",
       "      <td>14.110847</td>\n",
       "      <td>18.18125</td>\n",
       "      <td>80.5833</td>\n",
       "      <td>10.749882</td>\n",
       "      <td>331</td>\n",
       "      <td>654</td>\n",
       "      <td>985</td>\n",
       "    </tr>\n",
       "    <tr>\n",
       "      <th>1</th>\n",
       "      <td>2</td>\n",
       "      <td>02-01-2018</td>\n",
       "      <td>1</td>\n",
       "      <td>0</td>\n",
       "      <td>1</td>\n",
       "      <td>0</td>\n",
       "      <td>0</td>\n",
       "      <td>0</td>\n",
       "      <td>2</td>\n",
       "      <td>14.902598</td>\n",
       "      <td>17.68695</td>\n",
       "      <td>69.6087</td>\n",
       "      <td>16.652113</td>\n",
       "      <td>131</td>\n",
       "      <td>670</td>\n",
       "      <td>801</td>\n",
       "    </tr>\n",
       "    <tr>\n",
       "      <th>2</th>\n",
       "      <td>3</td>\n",
       "      <td>03-01-2018</td>\n",
       "      <td>1</td>\n",
       "      <td>0</td>\n",
       "      <td>1</td>\n",
       "      <td>0</td>\n",
       "      <td>1</td>\n",
       "      <td>1</td>\n",
       "      <td>1</td>\n",
       "      <td>8.050924</td>\n",
       "      <td>9.47025</td>\n",
       "      <td>43.7273</td>\n",
       "      <td>16.636703</td>\n",
       "      <td>120</td>\n",
       "      <td>1229</td>\n",
       "      <td>1349</td>\n",
       "    </tr>\n",
       "    <tr>\n",
       "      <th>3</th>\n",
       "      <td>4</td>\n",
       "      <td>04-01-2018</td>\n",
       "      <td>1</td>\n",
       "      <td>0</td>\n",
       "      <td>1</td>\n",
       "      <td>0</td>\n",
       "      <td>2</td>\n",
       "      <td>1</td>\n",
       "      <td>1</td>\n",
       "      <td>8.200000</td>\n",
       "      <td>10.60610</td>\n",
       "      <td>59.0435</td>\n",
       "      <td>10.739832</td>\n",
       "      <td>108</td>\n",
       "      <td>1454</td>\n",
       "      <td>1562</td>\n",
       "    </tr>\n",
       "    <tr>\n",
       "      <th>4</th>\n",
       "      <td>5</td>\n",
       "      <td>05-01-2018</td>\n",
       "      <td>1</td>\n",
       "      <td>0</td>\n",
       "      <td>1</td>\n",
       "      <td>0</td>\n",
       "      <td>3</td>\n",
       "      <td>1</td>\n",
       "      <td>1</td>\n",
       "      <td>9.305237</td>\n",
       "      <td>11.46350</td>\n",
       "      <td>43.6957</td>\n",
       "      <td>12.522300</td>\n",
       "      <td>82</td>\n",
       "      <td>1518</td>\n",
       "      <td>1600</td>\n",
       "    </tr>\n",
       "    <tr>\n",
       "      <th>5</th>\n",
       "      <td>6</td>\n",
       "      <td>06-01-2018</td>\n",
       "      <td>1</td>\n",
       "      <td>0</td>\n",
       "      <td>1</td>\n",
       "      <td>0</td>\n",
       "      <td>4</td>\n",
       "      <td>1</td>\n",
       "      <td>1</td>\n",
       "      <td>8.378268</td>\n",
       "      <td>11.66045</td>\n",
       "      <td>51.8261</td>\n",
       "      <td>6.000868</td>\n",
       "      <td>88</td>\n",
       "      <td>1518</td>\n",
       "      <td>1606</td>\n",
       "    </tr>\n",
       "    <tr>\n",
       "      <th>6</th>\n",
       "      <td>7</td>\n",
       "      <td>07-01-2018</td>\n",
       "      <td>1</td>\n",
       "      <td>0</td>\n",
       "      <td>1</td>\n",
       "      <td>0</td>\n",
       "      <td>5</td>\n",
       "      <td>1</td>\n",
       "      <td>2</td>\n",
       "      <td>8.057402</td>\n",
       "      <td>10.44195</td>\n",
       "      <td>49.8696</td>\n",
       "      <td>11.304642</td>\n",
       "      <td>148</td>\n",
       "      <td>1362</td>\n",
       "      <td>1510</td>\n",
       "    </tr>\n",
       "    <tr>\n",
       "      <th>7</th>\n",
       "      <td>8</td>\n",
       "      <td>08-01-2018</td>\n",
       "      <td>1</td>\n",
       "      <td>0</td>\n",
       "      <td>1</td>\n",
       "      <td>0</td>\n",
       "      <td>6</td>\n",
       "      <td>0</td>\n",
       "      <td>2</td>\n",
       "      <td>6.765000</td>\n",
       "      <td>8.11270</td>\n",
       "      <td>53.5833</td>\n",
       "      <td>17.875868</td>\n",
       "      <td>68</td>\n",
       "      <td>891</td>\n",
       "      <td>959</td>\n",
       "    </tr>\n",
       "    <tr>\n",
       "      <th>8</th>\n",
       "      <td>9</td>\n",
       "      <td>09-01-2018</td>\n",
       "      <td>1</td>\n",
       "      <td>0</td>\n",
       "      <td>1</td>\n",
       "      <td>0</td>\n",
       "      <td>0</td>\n",
       "      <td>0</td>\n",
       "      <td>1</td>\n",
       "      <td>5.671653</td>\n",
       "      <td>5.80875</td>\n",
       "      <td>43.4167</td>\n",
       "      <td>24.250650</td>\n",
       "      <td>54</td>\n",
       "      <td>768</td>\n",
       "      <td>822</td>\n",
       "    </tr>\n",
       "    <tr>\n",
       "      <th>9</th>\n",
       "      <td>10</td>\n",
       "      <td>10-01-2018</td>\n",
       "      <td>1</td>\n",
       "      <td>0</td>\n",
       "      <td>1</td>\n",
       "      <td>0</td>\n",
       "      <td>1</td>\n",
       "      <td>1</td>\n",
       "      <td>1</td>\n",
       "      <td>6.184153</td>\n",
       "      <td>7.54440</td>\n",
       "      <td>48.2917</td>\n",
       "      <td>14.958889</td>\n",
       "      <td>41</td>\n",
       "      <td>1280</td>\n",
       "      <td>1321</td>\n",
       "    </tr>\n",
       "    <tr>\n",
       "      <th>10</th>\n",
       "      <td>11</td>\n",
       "      <td>11-01-2018</td>\n",
       "      <td>1</td>\n",
       "      <td>0</td>\n",
       "      <td>1</td>\n",
       "      <td>0</td>\n",
       "      <td>2</td>\n",
       "      <td>1</td>\n",
       "      <td>2</td>\n",
       "      <td>6.932731</td>\n",
       "      <td>9.57320</td>\n",
       "      <td>68.6364</td>\n",
       "      <td>8.182844</td>\n",
       "      <td>43</td>\n",
       "      <td>1220</td>\n",
       "      <td>1263</td>\n",
       "    </tr>\n",
       "    <tr>\n",
       "      <th>11</th>\n",
       "      <td>12</td>\n",
       "      <td>12-01-2018</td>\n",
       "      <td>1</td>\n",
       "      <td>0</td>\n",
       "      <td>1</td>\n",
       "      <td>0</td>\n",
       "      <td>3</td>\n",
       "      <td>1</td>\n",
       "      <td>1</td>\n",
       "      <td>7.081807</td>\n",
       "      <td>8.02365</td>\n",
       "      <td>59.9545</td>\n",
       "      <td>20.410009</td>\n",
       "      <td>25</td>\n",
       "      <td>1137</td>\n",
       "      <td>1162</td>\n",
       "    </tr>\n",
       "    <tr>\n",
       "      <th>12</th>\n",
       "      <td>13</td>\n",
       "      <td>13-01-2018</td>\n",
       "      <td>1</td>\n",
       "      <td>0</td>\n",
       "      <td>1</td>\n",
       "      <td>0</td>\n",
       "      <td>4</td>\n",
       "      <td>1</td>\n",
       "      <td>1</td>\n",
       "      <td>6.765000</td>\n",
       "      <td>7.54415</td>\n",
       "      <td>47.0417</td>\n",
       "      <td>20.167000</td>\n",
       "      <td>38</td>\n",
       "      <td>1368</td>\n",
       "      <td>1406</td>\n",
       "    </tr>\n",
       "    <tr>\n",
       "      <th>13</th>\n",
       "      <td>14</td>\n",
       "      <td>14-01-2018</td>\n",
       "      <td>1</td>\n",
       "      <td>0</td>\n",
       "      <td>1</td>\n",
       "      <td>0</td>\n",
       "      <td>5</td>\n",
       "      <td>1</td>\n",
       "      <td>1</td>\n",
       "      <td>6.595670</td>\n",
       "      <td>9.42065</td>\n",
       "      <td>53.7826</td>\n",
       "      <td>8.478716</td>\n",
       "      <td>54</td>\n",
       "      <td>1367</td>\n",
       "      <td>1421</td>\n",
       "    </tr>\n",
       "    <tr>\n",
       "      <th>14</th>\n",
       "      <td>15</td>\n",
       "      <td>15-01-2018</td>\n",
       "      <td>1</td>\n",
       "      <td>0</td>\n",
       "      <td>1</td>\n",
       "      <td>0</td>\n",
       "      <td>6</td>\n",
       "      <td>0</td>\n",
       "      <td>2</td>\n",
       "      <td>9.566653</td>\n",
       "      <td>12.40560</td>\n",
       "      <td>49.8750</td>\n",
       "      <td>10.583521</td>\n",
       "      <td>222</td>\n",
       "      <td>1026</td>\n",
       "      <td>1248</td>\n",
       "    </tr>\n",
       "  </tbody>\n",
       "</table>\n",
       "</div>"
      ],
      "text/plain": [
       "    instant      dteday  season  yr  mnth  holiday  weekday  workingday  \\\n",
       "0         1  01-01-2018       1   0     1        0        6           0   \n",
       "1         2  02-01-2018       1   0     1        0        0           0   \n",
       "2         3  03-01-2018       1   0     1        0        1           1   \n",
       "3         4  04-01-2018       1   0     1        0        2           1   \n",
       "4         5  05-01-2018       1   0     1        0        3           1   \n",
       "5         6  06-01-2018       1   0     1        0        4           1   \n",
       "6         7  07-01-2018       1   0     1        0        5           1   \n",
       "7         8  08-01-2018       1   0     1        0        6           0   \n",
       "8         9  09-01-2018       1   0     1        0        0           0   \n",
       "9        10  10-01-2018       1   0     1        0        1           1   \n",
       "10       11  11-01-2018       1   0     1        0        2           1   \n",
       "11       12  12-01-2018       1   0     1        0        3           1   \n",
       "12       13  13-01-2018       1   0     1        0        4           1   \n",
       "13       14  14-01-2018       1   0     1        0        5           1   \n",
       "14       15  15-01-2018       1   0     1        0        6           0   \n",
       "\n",
       "    weathersit       temp     atemp      hum  windspeed  casual  registered  \\\n",
       "0            2  14.110847  18.18125  80.5833  10.749882     331         654   \n",
       "1            2  14.902598  17.68695  69.6087  16.652113     131         670   \n",
       "2            1   8.050924   9.47025  43.7273  16.636703     120        1229   \n",
       "3            1   8.200000  10.60610  59.0435  10.739832     108        1454   \n",
       "4            1   9.305237  11.46350  43.6957  12.522300      82        1518   \n",
       "5            1   8.378268  11.66045  51.8261   6.000868      88        1518   \n",
       "6            2   8.057402  10.44195  49.8696  11.304642     148        1362   \n",
       "7            2   6.765000   8.11270  53.5833  17.875868      68         891   \n",
       "8            1   5.671653   5.80875  43.4167  24.250650      54         768   \n",
       "9            1   6.184153   7.54440  48.2917  14.958889      41        1280   \n",
       "10           2   6.932731   9.57320  68.6364   8.182844      43        1220   \n",
       "11           1   7.081807   8.02365  59.9545  20.410009      25        1137   \n",
       "12           1   6.765000   7.54415  47.0417  20.167000      38        1368   \n",
       "13           1   6.595670   9.42065  53.7826   8.478716      54        1367   \n",
       "14           2   9.566653  12.40560  49.8750  10.583521     222        1026   \n",
       "\n",
       "     cnt  \n",
       "0    985  \n",
       "1    801  \n",
       "2   1349  \n",
       "3   1562  \n",
       "4   1600  \n",
       "5   1606  \n",
       "6   1510  \n",
       "7    959  \n",
       "8    822  \n",
       "9   1321  \n",
       "10  1263  \n",
       "11  1162  \n",
       "12  1406  \n",
       "13  1421  \n",
       "14  1248  "
      ]
     },
     "execution_count": 335,
     "metadata": {},
     "output_type": "execute_result"
    }
   ],
   "source": [
    "# Checking for refernce before directly mapping\n",
    "data.head(15)"
   ]
  },
  {
   "cell_type": "markdown",
   "id": "a523a54b",
   "metadata": {},
   "source": [
    "For now to avoid confusion and proceed with the modelling lets ignore the day calculated manually and map as per the Data dictionary"
   ]
  },
  {
   "cell_type": "code",
   "execution_count": 336,
   "id": "a1d8d652",
   "metadata": {
    "ExecuteTime": {
     "end_time": "2022-07-13T14:06:53.683155Z",
     "start_time": "2022-07-13T14:06:53.664360Z"
    }
   },
   "outputs": [],
   "source": [
    "# Creating dictionary to map values\n",
    "seasons = {1:'Spring', 2:'Summer', 3:'Fall', 4:'Winter'}\n",
    "months = {1:'Jan', 2:'Feb', 3:'Mar', 4:'Apr', 5:'May', 6:'Jun', 7:'Jul', 8:'Aug', 9:'Sep', 10:'Oct', 11:'Nov', 12:'Dec'}\n",
    "weathers = {1:'Clear', 2:'Mist', 3:'Light Snow', 4:'Heavy Rain'}\n",
    "weekdays = {0: 'Sunday', 1: 'Monday', 2: 'Tuesday', 3: 'Wednesday', 4: 'Thursday', 5: 'Friday', 6: 'Saturday'}"
   ]
  },
  {
   "cell_type": "code",
   "execution_count": 337,
   "id": "a67c7309",
   "metadata": {
    "ExecuteTime": {
     "end_time": "2022-07-13T14:06:53.725965Z",
     "start_time": "2022-07-13T14:06:53.687566Z"
    }
   },
   "outputs": [],
   "source": [
    "# Mapping categorical variables from Data dictonary.\n",
    "data['season'] = data['season'].map(seasons)\n",
    "data['mnth'] = data['mnth'].map(months)\n",
    "data['weathersit'] = data['weathersit'].map(weathers)\n",
    "data['weekday'] = data['weekday'].map(weekdays)"
   ]
  },
  {
   "cell_type": "code",
   "execution_count": 338,
   "id": "be6f0bc9",
   "metadata": {
    "ExecuteTime": {
     "end_time": "2022-07-13T14:06:53.770505Z",
     "start_time": "2022-07-13T14:06:53.730387Z"
    }
   },
   "outputs": [
    {
     "data": {
      "text/html": [
       "<div>\n",
       "<style scoped>\n",
       "    .dataframe tbody tr th:only-of-type {\n",
       "        vertical-align: middle;\n",
       "    }\n",
       "\n",
       "    .dataframe tbody tr th {\n",
       "        vertical-align: top;\n",
       "    }\n",
       "\n",
       "    .dataframe thead th {\n",
       "        text-align: right;\n",
       "    }\n",
       "</style>\n",
       "<table border=\"1\" class=\"dataframe\">\n",
       "  <thead>\n",
       "    <tr style=\"text-align: right;\">\n",
       "      <th></th>\n",
       "      <th>instant</th>\n",
       "      <th>dteday</th>\n",
       "      <th>season</th>\n",
       "      <th>yr</th>\n",
       "      <th>mnth</th>\n",
       "      <th>holiday</th>\n",
       "      <th>weekday</th>\n",
       "      <th>workingday</th>\n",
       "      <th>weathersit</th>\n",
       "      <th>temp</th>\n",
       "      <th>atemp</th>\n",
       "      <th>hum</th>\n",
       "      <th>windspeed</th>\n",
       "      <th>casual</th>\n",
       "      <th>registered</th>\n",
       "      <th>cnt</th>\n",
       "    </tr>\n",
       "  </thead>\n",
       "  <tbody>\n",
       "    <tr>\n",
       "      <th>0</th>\n",
       "      <td>1</td>\n",
       "      <td>01-01-2018</td>\n",
       "      <td>Spring</td>\n",
       "      <td>0</td>\n",
       "      <td>Jan</td>\n",
       "      <td>0</td>\n",
       "      <td>Saturday</td>\n",
       "      <td>0</td>\n",
       "      <td>Mist</td>\n",
       "      <td>14.110847</td>\n",
       "      <td>18.18125</td>\n",
       "      <td>80.5833</td>\n",
       "      <td>10.749882</td>\n",
       "      <td>331</td>\n",
       "      <td>654</td>\n",
       "      <td>985</td>\n",
       "    </tr>\n",
       "    <tr>\n",
       "      <th>1</th>\n",
       "      <td>2</td>\n",
       "      <td>02-01-2018</td>\n",
       "      <td>Spring</td>\n",
       "      <td>0</td>\n",
       "      <td>Jan</td>\n",
       "      <td>0</td>\n",
       "      <td>Sunday</td>\n",
       "      <td>0</td>\n",
       "      <td>Mist</td>\n",
       "      <td>14.902598</td>\n",
       "      <td>17.68695</td>\n",
       "      <td>69.6087</td>\n",
       "      <td>16.652113</td>\n",
       "      <td>131</td>\n",
       "      <td>670</td>\n",
       "      <td>801</td>\n",
       "    </tr>\n",
       "    <tr>\n",
       "      <th>2</th>\n",
       "      <td>3</td>\n",
       "      <td>03-01-2018</td>\n",
       "      <td>Spring</td>\n",
       "      <td>0</td>\n",
       "      <td>Jan</td>\n",
       "      <td>0</td>\n",
       "      <td>Monday</td>\n",
       "      <td>1</td>\n",
       "      <td>Clear</td>\n",
       "      <td>8.050924</td>\n",
       "      <td>9.47025</td>\n",
       "      <td>43.7273</td>\n",
       "      <td>16.636703</td>\n",
       "      <td>120</td>\n",
       "      <td>1229</td>\n",
       "      <td>1349</td>\n",
       "    </tr>\n",
       "    <tr>\n",
       "      <th>3</th>\n",
       "      <td>4</td>\n",
       "      <td>04-01-2018</td>\n",
       "      <td>Spring</td>\n",
       "      <td>0</td>\n",
       "      <td>Jan</td>\n",
       "      <td>0</td>\n",
       "      <td>Tuesday</td>\n",
       "      <td>1</td>\n",
       "      <td>Clear</td>\n",
       "      <td>8.200000</td>\n",
       "      <td>10.60610</td>\n",
       "      <td>59.0435</td>\n",
       "      <td>10.739832</td>\n",
       "      <td>108</td>\n",
       "      <td>1454</td>\n",
       "      <td>1562</td>\n",
       "    </tr>\n",
       "    <tr>\n",
       "      <th>4</th>\n",
       "      <td>5</td>\n",
       "      <td>05-01-2018</td>\n",
       "      <td>Spring</td>\n",
       "      <td>0</td>\n",
       "      <td>Jan</td>\n",
       "      <td>0</td>\n",
       "      <td>Wednesday</td>\n",
       "      <td>1</td>\n",
       "      <td>Clear</td>\n",
       "      <td>9.305237</td>\n",
       "      <td>11.46350</td>\n",
       "      <td>43.6957</td>\n",
       "      <td>12.522300</td>\n",
       "      <td>82</td>\n",
       "      <td>1518</td>\n",
       "      <td>1600</td>\n",
       "    </tr>\n",
       "  </tbody>\n",
       "</table>\n",
       "</div>"
      ],
      "text/plain": [
       "   instant      dteday  season  yr mnth  holiday    weekday  workingday  \\\n",
       "0        1  01-01-2018  Spring   0  Jan        0   Saturday           0   \n",
       "1        2  02-01-2018  Spring   0  Jan        0     Sunday           0   \n",
       "2        3  03-01-2018  Spring   0  Jan        0     Monday           1   \n",
       "3        4  04-01-2018  Spring   0  Jan        0    Tuesday           1   \n",
       "4        5  05-01-2018  Spring   0  Jan        0  Wednesday           1   \n",
       "\n",
       "  weathersit       temp     atemp      hum  windspeed  casual  registered  \\\n",
       "0       Mist  14.110847  18.18125  80.5833  10.749882     331         654   \n",
       "1       Mist  14.902598  17.68695  69.6087  16.652113     131         670   \n",
       "2      Clear   8.050924   9.47025  43.7273  16.636703     120        1229   \n",
       "3      Clear   8.200000  10.60610  59.0435  10.739832     108        1454   \n",
       "4      Clear   9.305237  11.46350  43.6957  12.522300      82        1518   \n",
       "\n",
       "    cnt  \n",
       "0   985  \n",
       "1   801  \n",
       "2  1349  \n",
       "3  1562  \n",
       "4  1600  "
      ]
     },
     "execution_count": 338,
     "metadata": {},
     "output_type": "execute_result"
    }
   ],
   "source": [
    "# Now lets look our data before getting into the EDA process\n",
    "data.head()"
   ]
  },
  {
   "cell_type": "markdown",
   "id": "acf2662a",
   "metadata": {},
   "source": [
    "## 3. Visualizing the data- EDA"
   ]
  },
  {
   "cell_type": "code",
   "execution_count": 339,
   "id": "a2d10f14",
   "metadata": {
    "ExecuteTime": {
     "end_time": "2022-07-13T14:06:55.246792Z",
     "start_time": "2022-07-13T14:06:53.775279Z"
    }
   },
   "outputs": [
    {
     "data": {
      "image/png": "[encoded data removed]",
      "text/plain": [
       "<Figure size 1800x720 with 6 Axes>"
      ]
     },
     "metadata": {},
     "output_type": "display_data"
    }
   ],
   "source": [
    "plt.figure(figsize=(25, 10))\n",
    "plt.subplot(2,3,1)\n",
    "sns.boxplot(x = 'season', y = 'cnt', data = data)\n",
    "plt.subplot(2,3,2)\n",
    "sns.boxplot(x = 'yr', y = 'cnt', data = data)\n",
    "plt.subplot(2,3,3)\n",
    "sns.boxplot(x = 'mnth', y = 'cnt', data = data)\n",
    "plt.subplot(2,3,4)\n",
    "sns.boxplot(x = 'holiday', y = 'cnt', data = data)\n",
    "plt.subplot(2,3,5)\n",
    "sns.boxplot(x = 'weekday', y = 'cnt', data = data)\n",
    "plt.subplot(2,3,6)\n",
    "sns.boxplot(x = 'weathersit', y = 'cnt', data = data)\n",
    "plt.show()"
   ]
  },
  {
   "cell_type": "markdown",
   "id": "cc00fcfe",
   "metadata": {},
   "source": [
    "OBSERVATION:\n",
    "\n",
    "1. On an average the use of bikes is less during holidays\n",
    "2. Bike rental rates are the most in September and October\n",
    "3. The use of shared bikes is more while the weather is clear & We have also seen that there is no use of bike in heavy rains\n",
    "4. The use of bikes is more in Fall season & during springs its very minimal"
   ]
  },
  {
   "cell_type": "code",
   "execution_count": 340,
   "id": "985c2aad",
   "metadata": {
    "ExecuteTime": {
     "end_time": "2022-07-13T14:06:56.726962Z",
     "start_time": "2022-07-13T14:06:55.249792Z"
    }
   },
   "outputs": [
    {
     "data": {
      "image/png": "[encoded data removed]",
      "text/plain": [
       "<Figure size 1440x360 with 2 Axes>"
      ]
     },
     "metadata": {},
     "output_type": "display_data"
    }
   ],
   "source": [
    "plt.figure(figsize=(20, 5))\n",
    "plt.subplot(1,2,1)\n",
    "sns.barplot(x = 'weekday', y = 'cnt', data = data)\n",
    "plt.subplot(1,2,2)\n",
    "sns.barplot(x = 'weekday', y = 'cnt', data = data, hue='yr')\n",
    "plt.show()"
   ]
  },
  {
   "cell_type": "markdown",
   "id": "cc06e169",
   "metadata": {},
   "source": [
    "OBSERVATION:\n",
    "\n",
    "The demand for bikes is quite more for Thursday, Friday & Saturday"
   ]
  },
  {
   "cell_type": "code",
   "execution_count": 341,
   "id": "eb96baf3",
   "metadata": {
    "ExecuteTime": {
     "end_time": "2022-07-13T14:06:57.855745Z",
     "start_time": "2022-07-13T14:06:56.729132Z"
    }
   },
   "outputs": [
    {
     "data": {
      "image/png": "[encoded data removed]",
      "text/plain": [
       "<Figure size 1440x360 with 2 Axes>"
      ]
     },
     "metadata": {},
     "output_type": "display_data"
    }
   ],
   "source": [
    "plt.figure(figsize=(20, 5))\n",
    "plt.subplot(1,2,1)\n",
    "sns.barplot(x = 'weekday', y = 'casual', data = data)\n",
    "plt.subplot(1,2,2)\n",
    "sns.barplot(x = 'weekday', y = 'registered', data = data)\n",
    "plt.show()"
   ]
  },
  {
   "cell_type": "markdown",
   "id": "4029fe41",
   "metadata": {},
   "source": [
    "OBSERVATION:\n",
    "\n",
    "Most of casual users rent the bikes during the weekends whereas the registered user use it during the weekdays"
   ]
  },
  {
   "cell_type": "code",
   "execution_count": 342,
   "id": "a8bbab1b",
   "metadata": {
    "ExecuteTime": {
     "end_time": "2022-07-13T14:07:00.007644Z",
     "start_time": "2022-07-13T14:06:57.860039Z"
    }
   },
   "outputs": [
    {
     "data": {
      "image/png": "[encoded data removed]",
      "text/plain": [
       "<Figure size 1440x360 with 2 Axes>"
      ]
     },
     "metadata": {},
     "output_type": "display_data"
    }
   ],
   "source": [
    "plt.figure(figsize=(20, 5))\n",
    "plt.subplot(1,2,1)\n",
    "sns.barplot(x = 'mnth', y = 'cnt', data = data)\n",
    "plt.subplot(1,2,2)\n",
    "sns.barplot(x = 'mnth', y = 'cnt', data = data, hue='yr')\n",
    "plt.show()"
   ]
  },
  {
   "cell_type": "markdown",
   "id": "fca20335",
   "metadata": {},
   "source": [
    "OBSERVATION:\n",
    "\n",
    "The bikes are rented by the people from june to september the most."
   ]
  },
  {
   "cell_type": "code",
   "execution_count": 343,
   "id": "3d759b06",
   "metadata": {
    "ExecuteTime": {
     "end_time": "2022-07-13T14:07:02.147789Z",
     "start_time": "2022-07-13T14:07:00.009867Z"
    }
   },
   "outputs": [
    {
     "data": {
      "text/plain": [
       "<seaborn.axisgrid.PairGrid at 0x1fa43199ee0>"
      ]
     },
     "execution_count": 343,
     "metadata": {},
     "output_type": "execute_result"
    },
    {
     "data": {
      "image/png": "[encoded data removed]",
      "text/plain": [
       "<Figure size 1121.62x180 with 6 Axes>"
      ]
     },
     "metadata": {},
     "output_type": "display_data"
    }
   ],
   "source": [
    "sns.pairplot(x_vars=['temp', 'atemp', 'hum', 'windspeed', 'casual', 'registered'], y_vars='cnt', data=data, hue='yr')"
   ]
  },
  {
   "cell_type": "markdown",
   "id": "5635a5e5",
   "metadata": {},
   "source": [
    "OBSERVATION:\n",
    "\n",
    "All the parameters have increased values in 2019 compared to 2018. Thus, year may become a key paratemeter in the model"
   ]
  },
  {
   "cell_type": "code",
   "execution_count": 344,
   "id": "caa59c5d",
   "metadata": {
    "ExecuteTime": {
     "end_time": "2022-07-13T14:07:04.041384Z",
     "start_time": "2022-07-13T14:07:02.149785Z"
    }
   },
   "outputs": [
    {
     "data": {
      "text/plain": [
       "<AxesSubplot:>"
      ]
     },
     "execution_count": 344,
     "metadata": {},
     "output_type": "execute_result"
    },
    {
     "data": {
      "image/png": "[encoded data removed]",
      "text/plain": [
       "<Figure size 720x504 with 2 Axes>"
      ]
     },
     "metadata": {},
     "output_type": "display_data"
    }
   ],
   "source": [
    "plt.figure(figsize = (10, 7))\n",
    "sns.heatmap(data.corr(), annot=True, fmt='.2f', cmap='GnBu')"
   ]
  },
  {
   "cell_type": "markdown",
   "id": "bed92b94",
   "metadata": {},
   "source": [
    "OBSERVATION:\n",
    "\n",
    "1. Year has positive impact for increasing of bike rentals\n",
    "2. Humidty & Windspeed has a negative impact on the bike rentals\n",
    "3. Temp & Atemp has positive corelation with respect to the bussines therefore while feeding it to ML we need to drop any one\n",
    "4. Year has positive impact for increasing of bike rentals"
   ]
  },
  {
   "cell_type": "markdown",
   "id": "005b5c04",
   "metadata": {},
   "source": [
    "## 4. Preparing data for Machine Learning"
   ]
  },
  {
   "cell_type": "code",
   "execution_count": 345,
   "id": "a26edf0b",
   "metadata": {
    "ExecuteTime": {
     "end_time": "2022-07-13T14:07:04.098691Z",
     "start_time": "2022-07-13T14:07:04.044983Z"
    }
   },
   "outputs": [
    {
     "data": {
      "text/html": [
       "<div>\n",
       "<style scoped>\n",
       "    .dataframe tbody tr th:only-of-type {\n",
       "        vertical-align: middle;\n",
       "    }\n",
       "\n",
       "    .dataframe tbody tr th {\n",
       "        vertical-align: top;\n",
       "    }\n",
       "\n",
       "    .dataframe thead th {\n",
       "        text-align: right;\n",
       "    }\n",
       "</style>\n",
       "<table border=\"1\" class=\"dataframe\">\n",
       "  <thead>\n",
       "    <tr style=\"text-align: right;\">\n",
       "      <th></th>\n",
       "      <th>instant</th>\n",
       "      <th>dteday</th>\n",
       "      <th>season</th>\n",
       "      <th>yr</th>\n",
       "      <th>mnth</th>\n",
       "      <th>holiday</th>\n",
       "      <th>weekday</th>\n",
       "      <th>workingday</th>\n",
       "      <th>weathersit</th>\n",
       "      <th>temp</th>\n",
       "      <th>atemp</th>\n",
       "      <th>hum</th>\n",
       "      <th>windspeed</th>\n",
       "      <th>casual</th>\n",
       "      <th>registered</th>\n",
       "      <th>cnt</th>\n",
       "    </tr>\n",
       "  </thead>\n",
       "  <tbody>\n",
       "    <tr>\n",
       "      <th>0</th>\n",
       "      <td>1</td>\n",
       "      <td>01-01-2018</td>\n",
       "      <td>Spring</td>\n",
       "      <td>0</td>\n",
       "      <td>Jan</td>\n",
       "      <td>0</td>\n",
       "      <td>Saturday</td>\n",
       "      <td>0</td>\n",
       "      <td>Mist</td>\n",
       "      <td>14.110847</td>\n",
       "      <td>18.18125</td>\n",
       "      <td>80.5833</td>\n",
       "      <td>10.749882</td>\n",
       "      <td>331</td>\n",
       "      <td>654</td>\n",
       "      <td>985</td>\n",
       "    </tr>\n",
       "    <tr>\n",
       "      <th>1</th>\n",
       "      <td>2</td>\n",
       "      <td>02-01-2018</td>\n",
       "      <td>Spring</td>\n",
       "      <td>0</td>\n",
       "      <td>Jan</td>\n",
       "      <td>0</td>\n",
       "      <td>Sunday</td>\n",
       "      <td>0</td>\n",
       "      <td>Mist</td>\n",
       "      <td>14.902598</td>\n",
       "      <td>17.68695</td>\n",
       "      <td>69.6087</td>\n",
       "      <td>16.652113</td>\n",
       "      <td>131</td>\n",
       "      <td>670</td>\n",
       "      <td>801</td>\n",
       "    </tr>\n",
       "    <tr>\n",
       "      <th>2</th>\n",
       "      <td>3</td>\n",
       "      <td>03-01-2018</td>\n",
       "      <td>Spring</td>\n",
       "      <td>0</td>\n",
       "      <td>Jan</td>\n",
       "      <td>0</td>\n",
       "      <td>Monday</td>\n",
       "      <td>1</td>\n",
       "      <td>Clear</td>\n",
       "      <td>8.050924</td>\n",
       "      <td>9.47025</td>\n",
       "      <td>43.7273</td>\n",
       "      <td>16.636703</td>\n",
       "      <td>120</td>\n",
       "      <td>1229</td>\n",
       "      <td>1349</td>\n",
       "    </tr>\n",
       "    <tr>\n",
       "      <th>3</th>\n",
       "      <td>4</td>\n",
       "      <td>04-01-2018</td>\n",
       "      <td>Spring</td>\n",
       "      <td>0</td>\n",
       "      <td>Jan</td>\n",
       "      <td>0</td>\n",
       "      <td>Tuesday</td>\n",
       "      <td>1</td>\n",
       "      <td>Clear</td>\n",
       "      <td>8.200000</td>\n",
       "      <td>10.60610</td>\n",
       "      <td>59.0435</td>\n",
       "      <td>10.739832</td>\n",
       "      <td>108</td>\n",
       "      <td>1454</td>\n",
       "      <td>1562</td>\n",
       "    </tr>\n",
       "    <tr>\n",
       "      <th>4</th>\n",
       "      <td>5</td>\n",
       "      <td>05-01-2018</td>\n",
       "      <td>Spring</td>\n",
       "      <td>0</td>\n",
       "      <td>Jan</td>\n",
       "      <td>0</td>\n",
       "      <td>Wednesday</td>\n",
       "      <td>1</td>\n",
       "      <td>Clear</td>\n",
       "      <td>9.305237</td>\n",
       "      <td>11.46350</td>\n",
       "      <td>43.6957</td>\n",
       "      <td>12.522300</td>\n",
       "      <td>82</td>\n",
       "      <td>1518</td>\n",
       "      <td>1600</td>\n",
       "    </tr>\n",
       "  </tbody>\n",
       "</table>\n",
       "</div>"
      ],
      "text/plain": [
       "   instant      dteday  season  yr mnth  holiday    weekday  workingday  \\\n",
       "0        1  01-01-2018  Spring   0  Jan        0   Saturday           0   \n",
       "1        2  02-01-2018  Spring   0  Jan        0     Sunday           0   \n",
       "2        3  03-01-2018  Spring   0  Jan        0     Monday           1   \n",
       "3        4  04-01-2018  Spring   0  Jan        0    Tuesday           1   \n",
       "4        5  05-01-2018  Spring   0  Jan        0  Wednesday           1   \n",
       "\n",
       "  weathersit       temp     atemp      hum  windspeed  casual  registered  \\\n",
       "0       Mist  14.110847  18.18125  80.5833  10.749882     331         654   \n",
       "1       Mist  14.902598  17.68695  69.6087  16.652113     131         670   \n",
       "2      Clear   8.050924   9.47025  43.7273  16.636703     120        1229   \n",
       "3      Clear   8.200000  10.60610  59.0435  10.739832     108        1454   \n",
       "4      Clear   9.305237  11.46350  43.6957  12.522300      82        1518   \n",
       "\n",
       "    cnt  \n",
       "0   985  \n",
       "1   801  \n",
       "2  1349  \n",
       "3  1562  \n",
       "4  1600  "
      ]
     },
     "execution_count": 345,
     "metadata": {},
     "output_type": "execute_result"
    }
   ],
   "source": [
    "data.head()"
   ]
  },
  {
   "cell_type": "markdown",
   "id": "aa2a16fc",
   "metadata": {
    "ExecuteTime": {
     "end_time": "2022-07-07T11:06:26.249305Z",
     "start_time": "2022-07-07T11:06:26.236554Z"
    }
   },
   "source": [
    "Now we will convert all the variable having some levels or indicating some categories by using dummy variables."
   ]
  },
  {
   "cell_type": "code",
   "execution_count": 346,
   "id": "30b79144",
   "metadata": {
    "ExecuteTime": {
     "end_time": "2022-07-13T14:07:04.129711Z",
     "start_time": "2022-07-13T14:07:04.101741Z"
    }
   },
   "outputs": [
    {
     "data": {
      "text/html": [
       "<div>\n",
       "<style scoped>\n",
       "    .dataframe tbody tr th:only-of-type {\n",
       "        vertical-align: middle;\n",
       "    }\n",
       "\n",
       "    .dataframe tbody tr th {\n",
       "        vertical-align: top;\n",
       "    }\n",
       "\n",
       "    .dataframe thead th {\n",
       "        text-align: right;\n",
       "    }\n",
       "</style>\n",
       "<table border=\"1\" class=\"dataframe\">\n",
       "  <thead>\n",
       "    <tr style=\"text-align: right;\">\n",
       "      <th></th>\n",
       "      <th>Spring</th>\n",
       "      <th>Summer</th>\n",
       "      <th>Winter</th>\n",
       "    </tr>\n",
       "  </thead>\n",
       "  <tbody>\n",
       "    <tr>\n",
       "      <th>200</th>\n",
       "      <td>0</td>\n",
       "      <td>0</td>\n",
       "      <td>0</td>\n",
       "    </tr>\n",
       "    <tr>\n",
       "      <th>260</th>\n",
       "      <td>0</td>\n",
       "      <td>0</td>\n",
       "      <td>0</td>\n",
       "    </tr>\n",
       "    <tr>\n",
       "      <th>206</th>\n",
       "      <td>0</td>\n",
       "      <td>0</td>\n",
       "      <td>0</td>\n",
       "    </tr>\n",
       "    <tr>\n",
       "      <th>289</th>\n",
       "      <td>0</td>\n",
       "      <td>0</td>\n",
       "      <td>1</td>\n",
       "    </tr>\n",
       "  </tbody>\n",
       "</table>\n",
       "</div>"
      ],
      "text/plain": [
       "     Spring  Summer  Winter\n",
       "200       0       0       0\n",
       "260       0       0       0\n",
       "206       0       0       0\n",
       "289       0       0       1"
      ]
     },
     "execution_count": 346,
     "metadata": {},
     "output_type": "execute_result"
    }
   ],
   "source": [
    "# Treating season column\n",
    "season = pd.get_dummies(data['season'], drop_first=True)\n",
    "season.sample(4)"
   ]
  },
  {
   "cell_type": "markdown",
   "id": "27bce841",
   "metadata": {},
   "source": [
    "Now, we don't need all 4 columns in the data. We dropped fall, as fall can be identified if rest of the 3 colums are 0\n",
    "\n",
    "-000 will correspond to fall\n",
    "\n",
    "-100 will correspond to spring\n",
    "\n",
    "-010 will correspond to summer\n",
    "\n",
    "-001 will correspond to winter"
   ]
  },
  {
   "cell_type": "code",
   "execution_count": 347,
   "id": "528dd8d5",
   "metadata": {
    "ExecuteTime": {
     "end_time": "2022-07-13T14:07:04.158084Z",
     "start_time": "2022-07-13T14:07:04.132453Z"
    }
   },
   "outputs": [
    {
     "data": {
      "text/html": [
       "<div>\n",
       "<style scoped>\n",
       "    .dataframe tbody tr th:only-of-type {\n",
       "        vertical-align: middle;\n",
       "    }\n",
       "\n",
       "    .dataframe tbody tr th {\n",
       "        vertical-align: top;\n",
       "    }\n",
       "\n",
       "    .dataframe thead th {\n",
       "        text-align: right;\n",
       "    }\n",
       "</style>\n",
       "<table border=\"1\" class=\"dataframe\">\n",
       "  <thead>\n",
       "    <tr style=\"text-align: right;\">\n",
       "      <th></th>\n",
       "      <th>Fall</th>\n",
       "      <th>Spring</th>\n",
       "      <th>Summer</th>\n",
       "      <th>Winter</th>\n",
       "    </tr>\n",
       "  </thead>\n",
       "  <tbody>\n",
       "    <tr>\n",
       "      <th>259</th>\n",
       "      <td>1</td>\n",
       "      <td>0</td>\n",
       "      <td>0</td>\n",
       "      <td>0</td>\n",
       "    </tr>\n",
       "    <tr>\n",
       "      <th>124</th>\n",
       "      <td>0</td>\n",
       "      <td>0</td>\n",
       "      <td>1</td>\n",
       "      <td>0</td>\n",
       "    </tr>\n",
       "    <tr>\n",
       "      <th>271</th>\n",
       "      <td>0</td>\n",
       "      <td>0</td>\n",
       "      <td>0</td>\n",
       "      <td>1</td>\n",
       "    </tr>\n",
       "    <tr>\n",
       "      <th>232</th>\n",
       "      <td>1</td>\n",
       "      <td>0</td>\n",
       "      <td>0</td>\n",
       "      <td>0</td>\n",
       "    </tr>\n",
       "  </tbody>\n",
       "</table>\n",
       "</div>"
      ],
      "text/plain": [
       "     Fall  Spring  Summer  Winter\n",
       "259     1       0       0       0\n",
       "124     0       0       1       0\n",
       "271     0       0       0       1\n",
       "232     1       0       0       0"
      ]
     },
     "execution_count": 347,
     "metadata": {},
     "output_type": "execute_result"
    }
   ],
   "source": [
    "# Treating season column\n",
    "season = pd.get_dummies(data['season'])\n",
    "season.sample(4)"
   ]
  },
  {
   "cell_type": "code",
   "execution_count": 348,
   "id": "c0242302",
   "metadata": {
    "ExecuteTime": {
     "end_time": "2022-07-13T14:07:04.216145Z",
     "start_time": "2022-07-13T14:07:04.161353Z"
    }
   },
   "outputs": [
    {
     "data": {
      "text/html": [
       "<div>\n",
       "<style scoped>\n",
       "    .dataframe tbody tr th:only-of-type {\n",
       "        vertical-align: middle;\n",
       "    }\n",
       "\n",
       "    .dataframe tbody tr th {\n",
       "        vertical-align: top;\n",
       "    }\n",
       "\n",
       "    .dataframe thead th {\n",
       "        text-align: right;\n",
       "    }\n",
       "</style>\n",
       "<table border=\"1\" class=\"dataframe\">\n",
       "  <thead>\n",
       "    <tr style=\"text-align: right;\">\n",
       "      <th></th>\n",
       "      <th>Apr</th>\n",
       "      <th>Aug</th>\n",
       "      <th>Dec</th>\n",
       "      <th>Feb</th>\n",
       "      <th>Jan</th>\n",
       "      <th>Jul</th>\n",
       "      <th>Jun</th>\n",
       "      <th>Mar</th>\n",
       "      <th>May</th>\n",
       "      <th>Nov</th>\n",
       "      <th>Oct</th>\n",
       "      <th>Sep</th>\n",
       "    </tr>\n",
       "  </thead>\n",
       "  <tbody>\n",
       "    <tr>\n",
       "      <th>686</th>\n",
       "      <td>0</td>\n",
       "      <td>0</td>\n",
       "      <td>0</td>\n",
       "      <td>0</td>\n",
       "      <td>0</td>\n",
       "      <td>0</td>\n",
       "      <td>0</td>\n",
       "      <td>0</td>\n",
       "      <td>0</td>\n",
       "      <td>1</td>\n",
       "      <td>0</td>\n",
       "      <td>0</td>\n",
       "    </tr>\n",
       "    <tr>\n",
       "      <th>245</th>\n",
       "      <td>0</td>\n",
       "      <td>0</td>\n",
       "      <td>0</td>\n",
       "      <td>0</td>\n",
       "      <td>0</td>\n",
       "      <td>0</td>\n",
       "      <td>0</td>\n",
       "      <td>0</td>\n",
       "      <td>0</td>\n",
       "      <td>0</td>\n",
       "      <td>0</td>\n",
       "      <td>1</td>\n",
       "    </tr>\n",
       "    <tr>\n",
       "      <th>2</th>\n",
       "      <td>0</td>\n",
       "      <td>0</td>\n",
       "      <td>0</td>\n",
       "      <td>0</td>\n",
       "      <td>1</td>\n",
       "      <td>0</td>\n",
       "      <td>0</td>\n",
       "      <td>0</td>\n",
       "      <td>0</td>\n",
       "      <td>0</td>\n",
       "      <td>0</td>\n",
       "      <td>0</td>\n",
       "    </tr>\n",
       "    <tr>\n",
       "      <th>624</th>\n",
       "      <td>0</td>\n",
       "      <td>0</td>\n",
       "      <td>0</td>\n",
       "      <td>0</td>\n",
       "      <td>0</td>\n",
       "      <td>0</td>\n",
       "      <td>0</td>\n",
       "      <td>0</td>\n",
       "      <td>0</td>\n",
       "      <td>0</td>\n",
       "      <td>0</td>\n",
       "      <td>1</td>\n",
       "    </tr>\n",
       "  </tbody>\n",
       "</table>\n",
       "</div>"
      ],
      "text/plain": [
       "     Apr  Aug  Dec  Feb  Jan  Jul  Jun  Mar  May  Nov  Oct  Sep\n",
       "686    0    0    0    0    0    0    0    0    0    1    0    0\n",
       "245    0    0    0    0    0    0    0    0    0    0    0    1\n",
       "2      0    0    0    0    1    0    0    0    0    0    0    0\n",
       "624    0    0    0    0    0    0    0    0    0    0    0    1"
      ]
     },
     "execution_count": 348,
     "metadata": {},
     "output_type": "execute_result"
    }
   ],
   "source": [
    "# Treating month column\n",
    "month = pd.get_dummies(data['mnth'])\n",
    "month.sample(4)"
   ]
  },
  {
   "cell_type": "code",
   "execution_count": 349,
   "id": "448ae474",
   "metadata": {
    "ExecuteTime": {
     "end_time": "2022-07-13T14:07:04.249551Z",
     "start_time": "2022-07-13T14:07:04.219481Z"
    }
   },
   "outputs": [
    {
     "data": {
      "text/html": [
       "<div>\n",
       "<style scoped>\n",
       "    .dataframe tbody tr th:only-of-type {\n",
       "        vertical-align: middle;\n",
       "    }\n",
       "\n",
       "    .dataframe tbody tr th {\n",
       "        vertical-align: top;\n",
       "    }\n",
       "\n",
       "    .dataframe thead th {\n",
       "        text-align: right;\n",
       "    }\n",
       "</style>\n",
       "<table border=\"1\" class=\"dataframe\">\n",
       "  <thead>\n",
       "    <tr style=\"text-align: right;\">\n",
       "      <th></th>\n",
       "      <th>Friday</th>\n",
       "      <th>Monday</th>\n",
       "      <th>Saturday</th>\n",
       "      <th>Sunday</th>\n",
       "      <th>Thursday</th>\n",
       "      <th>Tuesday</th>\n",
       "      <th>Wednesday</th>\n",
       "    </tr>\n",
       "  </thead>\n",
       "  <tbody>\n",
       "    <tr>\n",
       "      <th>391</th>\n",
       "      <td>1</td>\n",
       "      <td>0</td>\n",
       "      <td>0</td>\n",
       "      <td>0</td>\n",
       "      <td>0</td>\n",
       "      <td>0</td>\n",
       "      <td>0</td>\n",
       "    </tr>\n",
       "    <tr>\n",
       "      <th>229</th>\n",
       "      <td>0</td>\n",
       "      <td>0</td>\n",
       "      <td>0</td>\n",
       "      <td>0</td>\n",
       "      <td>1</td>\n",
       "      <td>0</td>\n",
       "      <td>0</td>\n",
       "    </tr>\n",
       "    <tr>\n",
       "      <th>727</th>\n",
       "      <td>0</td>\n",
       "      <td>0</td>\n",
       "      <td>1</td>\n",
       "      <td>0</td>\n",
       "      <td>0</td>\n",
       "      <td>0</td>\n",
       "      <td>0</td>\n",
       "    </tr>\n",
       "    <tr>\n",
       "      <th>34</th>\n",
       "      <td>1</td>\n",
       "      <td>0</td>\n",
       "      <td>0</td>\n",
       "      <td>0</td>\n",
       "      <td>0</td>\n",
       "      <td>0</td>\n",
       "      <td>0</td>\n",
       "    </tr>\n",
       "  </tbody>\n",
       "</table>\n",
       "</div>"
      ],
      "text/plain": [
       "     Friday  Monday  Saturday  Sunday  Thursday  Tuesday  Wednesday\n",
       "391       1       0         0       0         0        0          0\n",
       "229       0       0         0       0         1        0          0\n",
       "727       0       0         1       0         0        0          0\n",
       "34        1       0         0       0         0        0          0"
      ]
     },
     "execution_count": 349,
     "metadata": {},
     "output_type": "execute_result"
    }
   ],
   "source": [
    "# Treating weekday column\n",
    "weekday = pd.get_dummies(data['weekday'])\n",
    "weekday.sample(4)"
   ]
  },
  {
   "cell_type": "code",
   "execution_count": 350,
   "id": "50218f0d",
   "metadata": {
    "ExecuteTime": {
     "end_time": "2022-07-13T14:07:04.285513Z",
     "start_time": "2022-07-13T14:07:04.264911Z"
    }
   },
   "outputs": [
    {
     "data": {
      "text/html": [
       "<div>\n",
       "<style scoped>\n",
       "    .dataframe tbody tr th:only-of-type {\n",
       "        vertical-align: middle;\n",
       "    }\n",
       "\n",
       "    .dataframe tbody tr th {\n",
       "        vertical-align: top;\n",
       "    }\n",
       "\n",
       "    .dataframe thead th {\n",
       "        text-align: right;\n",
       "    }\n",
       "</style>\n",
       "<table border=\"1\" class=\"dataframe\">\n",
       "  <thead>\n",
       "    <tr style=\"text-align: right;\">\n",
       "      <th></th>\n",
       "      <th>Clear</th>\n",
       "      <th>Light Snow</th>\n",
       "      <th>Mist</th>\n",
       "    </tr>\n",
       "  </thead>\n",
       "  <tbody>\n",
       "    <tr>\n",
       "      <th>585</th>\n",
       "      <td>1</td>\n",
       "      <td>0</td>\n",
       "      <td>0</td>\n",
       "    </tr>\n",
       "    <tr>\n",
       "      <th>349</th>\n",
       "      <td>0</td>\n",
       "      <td>0</td>\n",
       "      <td>1</td>\n",
       "    </tr>\n",
       "    <tr>\n",
       "      <th>532</th>\n",
       "      <td>1</td>\n",
       "      <td>0</td>\n",
       "      <td>0</td>\n",
       "    </tr>\n",
       "    <tr>\n",
       "      <th>285</th>\n",
       "      <td>0</td>\n",
       "      <td>0</td>\n",
       "      <td>1</td>\n",
       "    </tr>\n",
       "  </tbody>\n",
       "</table>\n",
       "</div>"
      ],
      "text/plain": [
       "     Clear  Light Snow  Mist\n",
       "585      1           0     0\n",
       "349      0           0     1\n",
       "532      1           0     0\n",
       "285      0           0     1"
      ]
     },
     "execution_count": 350,
     "metadata": {},
     "output_type": "execute_result"
    }
   ],
   "source": [
    "# Treating weather column\n",
    "weather = pd.get_dummies(data['weathersit'])\n",
    "weather.sample(4)"
   ]
  },
  {
   "cell_type": "code",
   "execution_count": 351,
   "id": "5c65d13c",
   "metadata": {
    "ExecuteTime": {
     "end_time": "2022-07-13T14:07:04.344364Z",
     "start_time": "2022-07-13T14:07:04.292377Z"
    }
   },
   "outputs": [
    {
     "data": {
      "text/html": [
       "<div>\n",
       "<style scoped>\n",
       "    .dataframe tbody tr th:only-of-type {\n",
       "        vertical-align: middle;\n",
       "    }\n",
       "\n",
       "    .dataframe tbody tr th {\n",
       "        vertical-align: top;\n",
       "    }\n",
       "\n",
       "    .dataframe thead th {\n",
       "        text-align: right;\n",
       "    }\n",
       "</style>\n",
       "<table border=\"1\" class=\"dataframe\">\n",
       "  <thead>\n",
       "    <tr style=\"text-align: right;\">\n",
       "      <th></th>\n",
       "      <th>instant</th>\n",
       "      <th>dteday</th>\n",
       "      <th>season</th>\n",
       "      <th>yr</th>\n",
       "      <th>mnth</th>\n",
       "      <th>holiday</th>\n",
       "      <th>weekday</th>\n",
       "      <th>workingday</th>\n",
       "      <th>weathersit</th>\n",
       "      <th>temp</th>\n",
       "      <th>atemp</th>\n",
       "      <th>hum</th>\n",
       "      <th>windspeed</th>\n",
       "      <th>casual</th>\n",
       "      <th>registered</th>\n",
       "      <th>cnt</th>\n",
       "    </tr>\n",
       "  </thead>\n",
       "  <tbody>\n",
       "    <tr>\n",
       "      <th>0</th>\n",
       "      <td>1</td>\n",
       "      <td>01-01-2018</td>\n",
       "      <td>Spring</td>\n",
       "      <td>0</td>\n",
       "      <td>Jan</td>\n",
       "      <td>0</td>\n",
       "      <td>Saturday</td>\n",
       "      <td>0</td>\n",
       "      <td>Mist</td>\n",
       "      <td>14.110847</td>\n",
       "      <td>18.18125</td>\n",
       "      <td>80.5833</td>\n",
       "      <td>10.749882</td>\n",
       "      <td>331</td>\n",
       "      <td>654</td>\n",
       "      <td>985</td>\n",
       "    </tr>\n",
       "    <tr>\n",
       "      <th>1</th>\n",
       "      <td>2</td>\n",
       "      <td>02-01-2018</td>\n",
       "      <td>Spring</td>\n",
       "      <td>0</td>\n",
       "      <td>Jan</td>\n",
       "      <td>0</td>\n",
       "      <td>Sunday</td>\n",
       "      <td>0</td>\n",
       "      <td>Mist</td>\n",
       "      <td>14.902598</td>\n",
       "      <td>17.68695</td>\n",
       "      <td>69.6087</td>\n",
       "      <td>16.652113</td>\n",
       "      <td>131</td>\n",
       "      <td>670</td>\n",
       "      <td>801</td>\n",
       "    </tr>\n",
       "    <tr>\n",
       "      <th>2</th>\n",
       "      <td>3</td>\n",
       "      <td>03-01-2018</td>\n",
       "      <td>Spring</td>\n",
       "      <td>0</td>\n",
       "      <td>Jan</td>\n",
       "      <td>0</td>\n",
       "      <td>Monday</td>\n",
       "      <td>1</td>\n",
       "      <td>Clear</td>\n",
       "      <td>8.050924</td>\n",
       "      <td>9.47025</td>\n",
       "      <td>43.7273</td>\n",
       "      <td>16.636703</td>\n",
       "      <td>120</td>\n",
       "      <td>1229</td>\n",
       "      <td>1349</td>\n",
       "    </tr>\n",
       "    <tr>\n",
       "      <th>3</th>\n",
       "      <td>4</td>\n",
       "      <td>04-01-2018</td>\n",
       "      <td>Spring</td>\n",
       "      <td>0</td>\n",
       "      <td>Jan</td>\n",
       "      <td>0</td>\n",
       "      <td>Tuesday</td>\n",
       "      <td>1</td>\n",
       "      <td>Clear</td>\n",
       "      <td>8.200000</td>\n",
       "      <td>10.60610</td>\n",
       "      <td>59.0435</td>\n",
       "      <td>10.739832</td>\n",
       "      <td>108</td>\n",
       "      <td>1454</td>\n",
       "      <td>1562</td>\n",
       "    </tr>\n",
       "    <tr>\n",
       "      <th>4</th>\n",
       "      <td>5</td>\n",
       "      <td>05-01-2018</td>\n",
       "      <td>Spring</td>\n",
       "      <td>0</td>\n",
       "      <td>Jan</td>\n",
       "      <td>0</td>\n",
       "      <td>Wednesday</td>\n",
       "      <td>1</td>\n",
       "      <td>Clear</td>\n",
       "      <td>9.305237</td>\n",
       "      <td>11.46350</td>\n",
       "      <td>43.6957</td>\n",
       "      <td>12.522300</td>\n",
       "      <td>82</td>\n",
       "      <td>1518</td>\n",
       "      <td>1600</td>\n",
       "    </tr>\n",
       "  </tbody>\n",
       "</table>\n",
       "</div>"
      ],
      "text/plain": [
       "   instant      dteday  season  yr mnth  holiday    weekday  workingday  \\\n",
       "0        1  01-01-2018  Spring   0  Jan        0   Saturday           0   \n",
       "1        2  02-01-2018  Spring   0  Jan        0     Sunday           0   \n",
       "2        3  03-01-2018  Spring   0  Jan        0     Monday           1   \n",
       "3        4  04-01-2018  Spring   0  Jan        0    Tuesday           1   \n",
       "4        5  05-01-2018  Spring   0  Jan        0  Wednesday           1   \n",
       "\n",
       "  weathersit       temp     atemp      hum  windspeed  casual  registered  \\\n",
       "0       Mist  14.110847  18.18125  80.5833  10.749882     331         654   \n",
       "1       Mist  14.902598  17.68695  69.6087  16.652113     131         670   \n",
       "2      Clear   8.050924   9.47025  43.7273  16.636703     120        1229   \n",
       "3      Clear   8.200000  10.60610  59.0435  10.739832     108        1454   \n",
       "4      Clear   9.305237  11.46350  43.6957  12.522300      82        1518   \n",
       "\n",
       "    cnt  \n",
       "0   985  \n",
       "1   801  \n",
       "2  1349  \n",
       "3  1562  \n",
       "4  1600  "
      ]
     },
     "execution_count": 351,
     "metadata": {},
     "output_type": "execute_result"
    }
   ],
   "source": [
    "data.head()"
   ]
  },
  {
   "cell_type": "code",
   "execution_count": 352,
   "id": "78f324f7",
   "metadata": {
    "ExecuteTime": {
     "end_time": "2022-07-13T14:07:04.370436Z",
     "start_time": "2022-07-13T14:07:04.348688Z"
    }
   },
   "outputs": [
    {
     "data": {
      "text/plain": [
       "(730, 42)"
      ]
     },
     "execution_count": 352,
     "metadata": {},
     "output_type": "execute_result"
    }
   ],
   "source": [
    "# Adding all the columns to the data\n",
    "data = pd.concat([data, season, month, weekday, weather], axis=1)\n",
    "data.shape"
   ]
  },
  {
   "cell_type": "code",
   "execution_count": 353,
   "id": "a6bc3f0f",
   "metadata": {
    "ExecuteTime": {
     "end_time": "2022-07-13T14:07:04.398049Z",
     "start_time": "2022-07-13T14:07:04.378357Z"
    }
   },
   "outputs": [],
   "source": [
    "# Dropping unwanted column from the data before feeding it to machine learning\n",
    "data.drop(columns=['instant', 'dteday', 'season', 'Spring', 'mnth', 'Jan', 'weekday', 'Sunday', 'weathersit', 'Light Snow', \n",
    "                   'casual', 'registered'], inplace=True)"
   ]
  },
  {
   "cell_type": "markdown",
   "id": "b42c84d1",
   "metadata": {},
   "source": [
    "Explaning dropped variable\n",
    "- `instant` is just the index of the data\n",
    "- `dteday` as day, month & year is already extracted we dont need it anymore\n",
    "- `season` we have created dummy variables & dropping `Spring` as it may cause multicolinearity in the data \n",
    "- `mnth` we have created dummy variables & dropping `Jan` as it may cause multicolinearity in the data \n",
    "- `weekday` we have created dummy variables & dropping `Sunday` as it may cause multicolinearity in the data \n",
    "- `weathersit` we have created dummy variables & dropping `Light Snow` as it may cause multicolinearity in the data \n",
    "- `casual` and `registered` as our main focus is to predict the overall retals ie `cnt`"
   ]
  },
  {
   "cell_type": "code",
   "execution_count": 354,
   "id": "1b637d1b",
   "metadata": {
    "ExecuteTime": {
     "end_time": "2022-07-13T14:07:04.450110Z",
     "start_time": "2022-07-13T14:07:04.400920Z"
    }
   },
   "outputs": [
    {
     "name": "stdout",
     "output_type": "stream",
     "text": [
      "<class 'pandas.core.frame.DataFrame'>\n",
      "Int64Index: 730 entries, 0 to 729\n",
      "Data columns (total 30 columns):\n",
      " #   Column      Non-Null Count  Dtype  \n",
      "---  ------      --------------  -----  \n",
      " 0   yr          730 non-null    int64  \n",
      " 1   holiday     730 non-null    int64  \n",
      " 2   workingday  730 non-null    int64  \n",
      " 3   temp        730 non-null    float64\n",
      " 4   atemp       730 non-null    float64\n",
      " 5   hum         730 non-null    float64\n",
      " 6   windspeed   730 non-null    float64\n",
      " 7   cnt         730 non-null    int64  \n",
      " 8   Fall        730 non-null    uint8  \n",
      " 9   Summer      730 non-null    uint8  \n",
      " 10  Winter      730 non-null    uint8  \n",
      " 11  Apr         730 non-null    uint8  \n",
      " 12  Aug         730 non-null    uint8  \n",
      " 13  Dec         730 non-null    uint8  \n",
      " 14  Feb         730 non-null    uint8  \n",
      " 15  Jul         730 non-null    uint8  \n",
      " 16  Jun         730 non-null    uint8  \n",
      " 17  Mar         730 non-null    uint8  \n",
      " 18  May         730 non-null    uint8  \n",
      " 19  Nov         730 non-null    uint8  \n",
      " 20  Oct         730 non-null    uint8  \n",
      " 21  Sep         730 non-null    uint8  \n",
      " 22  Friday      730 non-null    uint8  \n",
      " 23  Monday      730 non-null    uint8  \n",
      " 24  Saturday    730 non-null    uint8  \n",
      " 25  Thursday    730 non-null    uint8  \n",
      " 26  Tuesday     730 non-null    uint8  \n",
      " 27  Wednesday   730 non-null    uint8  \n",
      " 28  Clear       730 non-null    uint8  \n",
      " 29  Mist        730 non-null    uint8  \n",
      "dtypes: float64(4), int64(4), uint8(22)\n",
      "memory usage: 67.0 KB\n"
     ]
    }
   ],
   "source": [
    "data.info()"
   ]
  },
  {
   "cell_type": "markdown",
   "id": "18c9ada0",
   "metadata": {},
   "source": [
    "## 5. Splitting Train & Test"
   ]
  },
  {
   "cell_type": "code",
   "execution_count": 355,
   "id": "16fee764",
   "metadata": {
    "ExecuteTime": {
     "end_time": "2022-07-13T14:07:04.494929Z",
     "start_time": "2022-07-13T14:07:04.453069Z"
    }
   },
   "outputs": [],
   "source": [
    "# Copying data so that we dont loose the final dataset\n",
    "model_data = data"
   ]
  },
  {
   "cell_type": "code",
   "execution_count": 356,
   "id": "66996f27",
   "metadata": {
    "ExecuteTime": {
     "end_time": "2022-07-13T14:07:04.521574Z",
     "start_time": "2022-07-13T14:07:04.499362Z"
    }
   },
   "outputs": [],
   "source": [
    "# Splitting the data into train & test dataset \n",
    "data_train, data_test = train_test_split(model_data, train_size = 0.75, random_state = 42)"
   ]
  },
  {
   "cell_type": "code",
   "execution_count": 357,
   "id": "3037b96f",
   "metadata": {
    "ExecuteTime": {
     "end_time": "2022-07-13T14:07:04.700514Z",
     "start_time": "2022-07-13T14:07:04.529355Z"
    }
   },
   "outputs": [
    {
     "data": {
      "text/html": [
       "<div>\n",
       "<style scoped>\n",
       "    .dataframe tbody tr th:only-of-type {\n",
       "        vertical-align: middle;\n",
       "    }\n",
       "\n",
       "    .dataframe tbody tr th {\n",
       "        vertical-align: top;\n",
       "    }\n",
       "\n",
       "    .dataframe thead th {\n",
       "        text-align: right;\n",
       "    }\n",
       "</style>\n",
       "<table border=\"1\" class=\"dataframe\">\n",
       "  <thead>\n",
       "    <tr style=\"text-align: right;\">\n",
       "      <th></th>\n",
       "      <th>yr</th>\n",
       "      <th>holiday</th>\n",
       "      <th>workingday</th>\n",
       "      <th>temp</th>\n",
       "      <th>atemp</th>\n",
       "      <th>hum</th>\n",
       "      <th>windspeed</th>\n",
       "      <th>cnt</th>\n",
       "      <th>Fall</th>\n",
       "      <th>Summer</th>\n",
       "      <th>...</th>\n",
       "      <th>Oct</th>\n",
       "      <th>Sep</th>\n",
       "      <th>Friday</th>\n",
       "      <th>Monday</th>\n",
       "      <th>Saturday</th>\n",
       "      <th>Thursday</th>\n",
       "      <th>Tuesday</th>\n",
       "      <th>Wednesday</th>\n",
       "      <th>Clear</th>\n",
       "      <th>Mist</th>\n",
       "    </tr>\n",
       "  </thead>\n",
       "  <tbody>\n",
       "    <tr>\n",
       "      <th>count</th>\n",
       "      <td>547.000000</td>\n",
       "      <td>547.000000</td>\n",
       "      <td>547.000000</td>\n",
       "      <td>547.000000</td>\n",
       "      <td>547.000000</td>\n",
       "      <td>547.000000</td>\n",
       "      <td>547.000000</td>\n",
       "      <td>547.000000</td>\n",
       "      <td>547.000000</td>\n",
       "      <td>547.000000</td>\n",
       "      <td>...</td>\n",
       "      <td>547.000000</td>\n",
       "      <td>547.000000</td>\n",
       "      <td>547.000000</td>\n",
       "      <td>547.000000</td>\n",
       "      <td>547.000000</td>\n",
       "      <td>547.000000</td>\n",
       "      <td>547.000000</td>\n",
       "      <td>547.000000</td>\n",
       "      <td>547.000000</td>\n",
       "      <td>547.000000</td>\n",
       "    </tr>\n",
       "    <tr>\n",
       "      <th>mean</th>\n",
       "      <td>0.517367</td>\n",
       "      <td>0.029250</td>\n",
       "      <td>0.674589</td>\n",
       "      <td>20.553348</td>\n",
       "      <td>24.014576</td>\n",
       "      <td>63.513846</td>\n",
       "      <td>12.540885</td>\n",
       "      <td>4550.241316</td>\n",
       "      <td>0.263254</td>\n",
       "      <td>0.252285</td>\n",
       "      <td>...</td>\n",
       "      <td>0.091408</td>\n",
       "      <td>0.087751</td>\n",
       "      <td>0.131627</td>\n",
       "      <td>0.148080</td>\n",
       "      <td>0.142596</td>\n",
       "      <td>0.146252</td>\n",
       "      <td>0.135283</td>\n",
       "      <td>0.142596</td>\n",
       "      <td>0.625229</td>\n",
       "      <td>0.343693</td>\n",
       "    </tr>\n",
       "    <tr>\n",
       "      <th>std</th>\n",
       "      <td>0.500156</td>\n",
       "      <td>0.168662</td>\n",
       "      <td>0.468957</td>\n",
       "      <td>7.465358</td>\n",
       "      <td>8.084690</td>\n",
       "      <td>14.143274</td>\n",
       "      <td>4.962407</td>\n",
       "      <td>1941.453615</td>\n",
       "      <td>0.440802</td>\n",
       "      <td>0.434722</td>\n",
       "      <td>...</td>\n",
       "      <td>0.288452</td>\n",
       "      <td>0.283192</td>\n",
       "      <td>0.338394</td>\n",
       "      <td>0.355505</td>\n",
       "      <td>0.349980</td>\n",
       "      <td>0.353682</td>\n",
       "      <td>0.342339</td>\n",
       "      <td>0.349980</td>\n",
       "      <td>0.484507</td>\n",
       "      <td>0.475375</td>\n",
       "    </tr>\n",
       "    <tr>\n",
       "      <th>min</th>\n",
       "      <td>0.000000</td>\n",
       "      <td>0.000000</td>\n",
       "      <td>0.000000</td>\n",
       "      <td>2.424346</td>\n",
       "      <td>3.953480</td>\n",
       "      <td>0.000000</td>\n",
       "      <td>1.500244</td>\n",
       "      <td>431.000000</td>\n",
       "      <td>0.000000</td>\n",
       "      <td>0.000000</td>\n",
       "      <td>...</td>\n",
       "      <td>0.000000</td>\n",
       "      <td>0.000000</td>\n",
       "      <td>0.000000</td>\n",
       "      <td>0.000000</td>\n",
       "      <td>0.000000</td>\n",
       "      <td>0.000000</td>\n",
       "      <td>0.000000</td>\n",
       "      <td>0.000000</td>\n",
       "      <td>0.000000</td>\n",
       "      <td>0.000000</td>\n",
       "    </tr>\n",
       "    <tr>\n",
       "      <th>25%</th>\n",
       "      <td>0.000000</td>\n",
       "      <td>0.000000</td>\n",
       "      <td>0.000000</td>\n",
       "      <td>14.096723</td>\n",
       "      <td>17.455200</td>\n",
       "      <td>52.598700</td>\n",
       "      <td>9.000478</td>\n",
       "      <td>3269.500000</td>\n",
       "      <td>0.000000</td>\n",
       "      <td>0.000000</td>\n",
       "      <td>...</td>\n",
       "      <td>0.000000</td>\n",
       "      <td>0.000000</td>\n",
       "      <td>0.000000</td>\n",
       "      <td>0.000000</td>\n",
       "      <td>0.000000</td>\n",
       "      <td>0.000000</td>\n",
       "      <td>0.000000</td>\n",
       "      <td>0.000000</td>\n",
       "      <td>0.000000</td>\n",
       "      <td>0.000000</td>\n",
       "    </tr>\n",
       "    <tr>\n",
       "      <th>50%</th>\n",
       "      <td>1.000000</td>\n",
       "      <td>0.000000</td>\n",
       "      <td>1.000000</td>\n",
       "      <td>21.320000</td>\n",
       "      <td>25.378950</td>\n",
       "      <td>63.833300</td>\n",
       "      <td>11.708518</td>\n",
       "      <td>4585.000000</td>\n",
       "      <td>0.000000</td>\n",
       "      <td>0.000000</td>\n",
       "      <td>...</td>\n",
       "      <td>0.000000</td>\n",
       "      <td>0.000000</td>\n",
       "      <td>0.000000</td>\n",
       "      <td>0.000000</td>\n",
       "      <td>0.000000</td>\n",
       "      <td>0.000000</td>\n",
       "      <td>0.000000</td>\n",
       "      <td>0.000000</td>\n",
       "      <td>1.000000</td>\n",
       "      <td>0.000000</td>\n",
       "    </tr>\n",
       "    <tr>\n",
       "      <th>75%</th>\n",
       "      <td>1.000000</td>\n",
       "      <td>0.000000</td>\n",
       "      <td>1.000000</td>\n",
       "      <td>26.923347</td>\n",
       "      <td>30.540225</td>\n",
       "      <td>73.510000</td>\n",
       "      <td>15.458575</td>\n",
       "      <td>6037.500000</td>\n",
       "      <td>1.000000</td>\n",
       "      <td>1.000000</td>\n",
       "      <td>...</td>\n",
       "      <td>0.000000</td>\n",
       "      <td>0.000000</td>\n",
       "      <td>0.000000</td>\n",
       "      <td>0.000000</td>\n",
       "      <td>0.000000</td>\n",
       "      <td>0.000000</td>\n",
       "      <td>0.000000</td>\n",
       "      <td>0.000000</td>\n",
       "      <td>1.000000</td>\n",
       "      <td>1.000000</td>\n",
       "    </tr>\n",
       "    <tr>\n",
       "      <th>max</th>\n",
       "      <td>1.000000</td>\n",
       "      <td>1.000000</td>\n",
       "      <td>1.000000</td>\n",
       "      <td>35.328347</td>\n",
       "      <td>42.044800</td>\n",
       "      <td>97.041700</td>\n",
       "      <td>28.250014</td>\n",
       "      <td>8714.000000</td>\n",
       "      <td>1.000000</td>\n",
       "      <td>1.000000</td>\n",
       "      <td>...</td>\n",
       "      <td>1.000000</td>\n",
       "      <td>1.000000</td>\n",
       "      <td>1.000000</td>\n",
       "      <td>1.000000</td>\n",
       "      <td>1.000000</td>\n",
       "      <td>1.000000</td>\n",
       "      <td>1.000000</td>\n",
       "      <td>1.000000</td>\n",
       "      <td>1.000000</td>\n",
       "      <td>1.000000</td>\n",
       "    </tr>\n",
       "  </tbody>\n",
       "</table>\n",
       "<p>8 rows × 30 columns</p>\n",
       "</div>"
      ],
      "text/plain": [
       "               yr     holiday  workingday        temp       atemp         hum  \\\n",
       "count  547.000000  547.000000  547.000000  547.000000  547.000000  547.000000   \n",
       "mean     0.517367    0.029250    0.674589   20.553348   24.014576   63.513846   \n",
       "std      0.500156    0.168662    0.468957    7.465358    8.084690   14.143274   \n",
       "min      0.000000    0.000000    0.000000    2.424346    3.953480    0.000000   \n",
       "25%      0.000000    0.000000    0.000000   14.096723   17.455200   52.598700   \n",
       "50%      1.000000    0.000000    1.000000   21.320000   25.378950   63.833300   \n",
       "75%      1.000000    0.000000    1.000000   26.923347   30.540225   73.510000   \n",
       "max      1.000000    1.000000    1.000000   35.328347   42.044800   97.041700   \n",
       "\n",
       "        windspeed          cnt        Fall      Summer  ...         Oct  \\\n",
       "count  547.000000   547.000000  547.000000  547.000000  ...  547.000000   \n",
       "mean    12.540885  4550.241316    0.263254    0.252285  ...    0.091408   \n",
       "std      4.962407  1941.453615    0.440802    0.434722  ...    0.288452   \n",
       "min      1.500244   431.000000    0.000000    0.000000  ...    0.000000   \n",
       "25%      9.000478  3269.500000    0.000000    0.000000  ...    0.000000   \n",
       "50%     11.708518  4585.000000    0.000000    0.000000  ...    0.000000   \n",
       "75%     15.458575  6037.500000    1.000000    1.000000  ...    0.000000   \n",
       "max     28.250014  8714.000000    1.000000    1.000000  ...    1.000000   \n",
       "\n",
       "              Sep      Friday      Monday    Saturday    Thursday     Tuesday  \\\n",
       "count  547.000000  547.000000  547.000000  547.000000  547.000000  547.000000   \n",
       "mean     0.087751    0.131627    0.148080    0.142596    0.146252    0.135283   \n",
       "std      0.283192    0.338394    0.355505    0.349980    0.353682    0.342339   \n",
       "min      0.000000    0.000000    0.000000    0.000000    0.000000    0.000000   \n",
       "25%      0.000000    0.000000    0.000000    0.000000    0.000000    0.000000   \n",
       "50%      0.000000    0.000000    0.000000    0.000000    0.000000    0.000000   \n",
       "75%      0.000000    0.000000    0.000000    0.000000    0.000000    0.000000   \n",
       "max      1.000000    1.000000    1.000000    1.000000    1.000000    1.000000   \n",
       "\n",
       "        Wednesday       Clear        Mist  \n",
       "count  547.000000  547.000000  547.000000  \n",
       "mean     0.142596    0.625229    0.343693  \n",
       "std      0.349980    0.484507    0.475375  \n",
       "min      0.000000    0.000000    0.000000  \n",
       "25%      0.000000    0.000000    0.000000  \n",
       "50%      0.000000    1.000000    0.000000  \n",
       "75%      0.000000    1.000000    1.000000  \n",
       "max      1.000000    1.000000    1.000000  \n",
       "\n",
       "[8 rows x 30 columns]"
      ]
     },
     "execution_count": 357,
     "metadata": {},
     "output_type": "execute_result"
    }
   ],
   "source": [
    "data_train.describe()"
   ]
  },
  {
   "cell_type": "code",
   "execution_count": 358,
   "id": "7f4415fe",
   "metadata": {
    "ExecuteTime": {
     "end_time": "2022-07-13T14:07:04.712100Z",
     "start_time": "2022-07-13T14:07:04.704038Z"
    }
   },
   "outputs": [],
   "source": [
    "# Rescaling using MinMaxCcaler\n",
    "scaler = MinMaxScaler()"
   ]
  },
  {
   "cell_type": "code",
   "execution_count": 359,
   "id": "0b57b369",
   "metadata": {
    "ExecuteTime": {
     "end_time": "2022-07-13T14:07:04.757603Z",
     "start_time": "2022-07-13T14:07:04.716604Z"
    }
   },
   "outputs": [],
   "source": [
    "# Apply scaler() to all the columns except the 'yes-no' and 'dummy' variables\n",
    "numeric_vars = ['temp','atemp','hum','windspeed','cnt']\n",
    "data_train[numeric_vars] = scaler.fit_transform(data_train[numeric_vars])"
   ]
  },
  {
   "cell_type": "code",
   "execution_count": 360,
   "id": "2efc558f",
   "metadata": {
    "ExecuteTime": {
     "end_time": "2022-07-13T14:07:04.946123Z",
     "start_time": "2022-07-13T14:07:04.761872Z"
    }
   },
   "outputs": [
    {
     "data": {
      "text/html": [
       "<div>\n",
       "<style scoped>\n",
       "    .dataframe tbody tr th:only-of-type {\n",
       "        vertical-align: middle;\n",
       "    }\n",
       "\n",
       "    .dataframe tbody tr th {\n",
       "        vertical-align: top;\n",
       "    }\n",
       "\n",
       "    .dataframe thead th {\n",
       "        text-align: right;\n",
       "    }\n",
       "</style>\n",
       "<table border=\"1\" class=\"dataframe\">\n",
       "  <thead>\n",
       "    <tr style=\"text-align: right;\">\n",
       "      <th></th>\n",
       "      <th>yr</th>\n",
       "      <th>holiday</th>\n",
       "      <th>workingday</th>\n",
       "      <th>temp</th>\n",
       "      <th>atemp</th>\n",
       "      <th>hum</th>\n",
       "      <th>windspeed</th>\n",
       "      <th>cnt</th>\n",
       "      <th>Fall</th>\n",
       "      <th>Summer</th>\n",
       "      <th>...</th>\n",
       "      <th>Oct</th>\n",
       "      <th>Sep</th>\n",
       "      <th>Friday</th>\n",
       "      <th>Monday</th>\n",
       "      <th>Saturday</th>\n",
       "      <th>Thursday</th>\n",
       "      <th>Tuesday</th>\n",
       "      <th>Wednesday</th>\n",
       "      <th>Clear</th>\n",
       "      <th>Mist</th>\n",
       "    </tr>\n",
       "  </thead>\n",
       "  <tbody>\n",
       "    <tr>\n",
       "      <th>count</th>\n",
       "      <td>547.000000</td>\n",
       "      <td>547.000000</td>\n",
       "      <td>547.000000</td>\n",
       "      <td>547.000000</td>\n",
       "      <td>547.000000</td>\n",
       "      <td>547.000000</td>\n",
       "      <td>547.000000</td>\n",
       "      <td>547.000000</td>\n",
       "      <td>547.000000</td>\n",
       "      <td>547.000000</td>\n",
       "      <td>...</td>\n",
       "      <td>547.000000</td>\n",
       "      <td>547.000000</td>\n",
       "      <td>547.000000</td>\n",
       "      <td>547.000000</td>\n",
       "      <td>547.000000</td>\n",
       "      <td>547.000000</td>\n",
       "      <td>547.000000</td>\n",
       "      <td>547.000000</td>\n",
       "      <td>547.000000</td>\n",
       "      <td>547.000000</td>\n",
       "    </tr>\n",
       "    <tr>\n",
       "      <th>mean</th>\n",
       "      <td>0.517367</td>\n",
       "      <td>0.029250</td>\n",
       "      <td>0.674589</td>\n",
       "      <td>0.550966</td>\n",
       "      <td>0.526658</td>\n",
       "      <td>0.654501</td>\n",
       "      <td>0.412738</td>\n",
       "      <td>0.497313</td>\n",
       "      <td>0.263254</td>\n",
       "      <td>0.252285</td>\n",
       "      <td>...</td>\n",
       "      <td>0.091408</td>\n",
       "      <td>0.087751</td>\n",
       "      <td>0.131627</td>\n",
       "      <td>0.148080</td>\n",
       "      <td>0.142596</td>\n",
       "      <td>0.146252</td>\n",
       "      <td>0.135283</td>\n",
       "      <td>0.142596</td>\n",
       "      <td>0.625229</td>\n",
       "      <td>0.343693</td>\n",
       "    </tr>\n",
       "    <tr>\n",
       "      <th>std</th>\n",
       "      <td>0.500156</td>\n",
       "      <td>0.168662</td>\n",
       "      <td>0.468957</td>\n",
       "      <td>0.226883</td>\n",
       "      <td>0.212245</td>\n",
       "      <td>0.145744</td>\n",
       "      <td>0.185512</td>\n",
       "      <td>0.234390</td>\n",
       "      <td>0.440802</td>\n",
       "      <td>0.434722</td>\n",
       "      <td>...</td>\n",
       "      <td>0.288452</td>\n",
       "      <td>0.283192</td>\n",
       "      <td>0.338394</td>\n",
       "      <td>0.355505</td>\n",
       "      <td>0.349980</td>\n",
       "      <td>0.353682</td>\n",
       "      <td>0.342339</td>\n",
       "      <td>0.349980</td>\n",
       "      <td>0.484507</td>\n",
       "      <td>0.475375</td>\n",
       "    </tr>\n",
       "    <tr>\n",
       "      <th>min</th>\n",
       "      <td>0.000000</td>\n",
       "      <td>0.000000</td>\n",
       "      <td>0.000000</td>\n",
       "      <td>0.000000</td>\n",
       "      <td>0.000000</td>\n",
       "      <td>0.000000</td>\n",
       "      <td>0.000000</td>\n",
       "      <td>0.000000</td>\n",
       "      <td>0.000000</td>\n",
       "      <td>0.000000</td>\n",
       "      <td>...</td>\n",
       "      <td>0.000000</td>\n",
       "      <td>0.000000</td>\n",
       "      <td>0.000000</td>\n",
       "      <td>0.000000</td>\n",
       "      <td>0.000000</td>\n",
       "      <td>0.000000</td>\n",
       "      <td>0.000000</td>\n",
       "      <td>0.000000</td>\n",
       "      <td>0.000000</td>\n",
       "      <td>0.000000</td>\n",
       "    </tr>\n",
       "    <tr>\n",
       "      <th>25%</th>\n",
       "      <td>0.000000</td>\n",
       "      <td>0.000000</td>\n",
       "      <td>0.000000</td>\n",
       "      <td>0.354740</td>\n",
       "      <td>0.354457</td>\n",
       "      <td>0.542022</td>\n",
       "      <td>0.280385</td>\n",
       "      <td>0.342690</td>\n",
       "      <td>0.000000</td>\n",
       "      <td>0.000000</td>\n",
       "      <td>...</td>\n",
       "      <td>0.000000</td>\n",
       "      <td>0.000000</td>\n",
       "      <td>0.000000</td>\n",
       "      <td>0.000000</td>\n",
       "      <td>0.000000</td>\n",
       "      <td>0.000000</td>\n",
       "      <td>0.000000</td>\n",
       "      <td>0.000000</td>\n",
       "      <td>0.000000</td>\n",
       "      <td>0.000000</td>\n",
       "    </tr>\n",
       "    <tr>\n",
       "      <th>50%</th>\n",
       "      <td>1.000000</td>\n",
       "      <td>0.000000</td>\n",
       "      <td>1.000000</td>\n",
       "      <td>0.574266</td>\n",
       "      <td>0.562476</td>\n",
       "      <td>0.657792</td>\n",
       "      <td>0.381621</td>\n",
       "      <td>0.501509</td>\n",
       "      <td>0.000000</td>\n",
       "      <td>0.000000</td>\n",
       "      <td>...</td>\n",
       "      <td>0.000000</td>\n",
       "      <td>0.000000</td>\n",
       "      <td>0.000000</td>\n",
       "      <td>0.000000</td>\n",
       "      <td>0.000000</td>\n",
       "      <td>0.000000</td>\n",
       "      <td>0.000000</td>\n",
       "      <td>0.000000</td>\n",
       "      <td>1.000000</td>\n",
       "      <td>0.000000</td>\n",
       "    </tr>\n",
       "    <tr>\n",
       "      <th>75%</th>\n",
       "      <td>1.000000</td>\n",
       "      <td>0.000000</td>\n",
       "      <td>1.000000</td>\n",
       "      <td>0.744560</td>\n",
       "      <td>0.697974</td>\n",
       "      <td>0.757509</td>\n",
       "      <td>0.521811</td>\n",
       "      <td>0.676868</td>\n",
       "      <td>1.000000</td>\n",
       "      <td>1.000000</td>\n",
       "      <td>...</td>\n",
       "      <td>0.000000</td>\n",
       "      <td>0.000000</td>\n",
       "      <td>0.000000</td>\n",
       "      <td>0.000000</td>\n",
       "      <td>0.000000</td>\n",
       "      <td>0.000000</td>\n",
       "      <td>0.000000</td>\n",
       "      <td>0.000000</td>\n",
       "      <td>1.000000</td>\n",
       "      <td>1.000000</td>\n",
       "    </tr>\n",
       "    <tr>\n",
       "      <th>max</th>\n",
       "      <td>1.000000</td>\n",
       "      <td>1.000000</td>\n",
       "      <td>1.000000</td>\n",
       "      <td>1.000000</td>\n",
       "      <td>1.000000</td>\n",
       "      <td>1.000000</td>\n",
       "      <td>1.000000</td>\n",
       "      <td>1.000000</td>\n",
       "      <td>1.000000</td>\n",
       "      <td>1.000000</td>\n",
       "      <td>...</td>\n",
       "      <td>1.000000</td>\n",
       "      <td>1.000000</td>\n",
       "      <td>1.000000</td>\n",
       "      <td>1.000000</td>\n",
       "      <td>1.000000</td>\n",
       "      <td>1.000000</td>\n",
       "      <td>1.000000</td>\n",
       "      <td>1.000000</td>\n",
       "      <td>1.000000</td>\n",
       "      <td>1.000000</td>\n",
       "    </tr>\n",
       "  </tbody>\n",
       "</table>\n",
       "<p>8 rows × 30 columns</p>\n",
       "</div>"
      ],
      "text/plain": [
       "               yr     holiday  workingday        temp       atemp         hum  \\\n",
       "count  547.000000  547.000000  547.000000  547.000000  547.000000  547.000000   \n",
       "mean     0.517367    0.029250    0.674589    0.550966    0.526658    0.654501   \n",
       "std      0.500156    0.168662    0.468957    0.226883    0.212245    0.145744   \n",
       "min      0.000000    0.000000    0.000000    0.000000    0.000000    0.000000   \n",
       "25%      0.000000    0.000000    0.000000    0.354740    0.354457    0.542022   \n",
       "50%      1.000000    0.000000    1.000000    0.574266    0.562476    0.657792   \n",
       "75%      1.000000    0.000000    1.000000    0.744560    0.697974    0.757509   \n",
       "max      1.000000    1.000000    1.000000    1.000000    1.000000    1.000000   \n",
       "\n",
       "        windspeed         cnt        Fall      Summer  ...         Oct  \\\n",
       "count  547.000000  547.000000  547.000000  547.000000  ...  547.000000   \n",
       "mean     0.412738    0.497313    0.263254    0.252285  ...    0.091408   \n",
       "std      0.185512    0.234390    0.440802    0.434722  ...    0.288452   \n",
       "min      0.000000    0.000000    0.000000    0.000000  ...    0.000000   \n",
       "25%      0.280385    0.342690    0.000000    0.000000  ...    0.000000   \n",
       "50%      0.381621    0.501509    0.000000    0.000000  ...    0.000000   \n",
       "75%      0.521811    0.676868    1.000000    1.000000  ...    0.000000   \n",
       "max      1.000000    1.000000    1.000000    1.000000  ...    1.000000   \n",
       "\n",
       "              Sep      Friday      Monday    Saturday    Thursday     Tuesday  \\\n",
       "count  547.000000  547.000000  547.000000  547.000000  547.000000  547.000000   \n",
       "mean     0.087751    0.131627    0.148080    0.142596    0.146252    0.135283   \n",
       "std      0.283192    0.338394    0.355505    0.349980    0.353682    0.342339   \n",
       "min      0.000000    0.000000    0.000000    0.000000    0.000000    0.000000   \n",
       "25%      0.000000    0.000000    0.000000    0.000000    0.000000    0.000000   \n",
       "50%      0.000000    0.000000    0.000000    0.000000    0.000000    0.000000   \n",
       "75%      0.000000    0.000000    0.000000    0.000000    0.000000    0.000000   \n",
       "max      1.000000    1.000000    1.000000    1.000000    1.000000    1.000000   \n",
       "\n",
       "        Wednesday       Clear        Mist  \n",
       "count  547.000000  547.000000  547.000000  \n",
       "mean     0.142596    0.625229    0.343693  \n",
       "std      0.349980    0.484507    0.475375  \n",
       "min      0.000000    0.000000    0.000000  \n",
       "25%      0.000000    0.000000    0.000000  \n",
       "50%      0.000000    1.000000    0.000000  \n",
       "75%      0.000000    1.000000    1.000000  \n",
       "max      1.000000    1.000000    1.000000  \n",
       "\n",
       "[8 rows x 30 columns]"
      ]
     },
     "execution_count": 360,
     "metadata": {},
     "output_type": "execute_result"
    }
   ],
   "source": [
    "data_train.describe()"
   ]
  },
  {
   "cell_type": "markdown",
   "id": "804cc091",
   "metadata": {},
   "source": [
    "## 6. Model Building"
   ]
  },
  {
   "cell_type": "code",
   "execution_count": 361,
   "id": "acd62f79",
   "metadata": {
    "ExecuteTime": {
     "end_time": "2022-07-13T14:07:04.954100Z",
     "start_time": "2022-07-13T14:07:04.948150Z"
    }
   },
   "outputs": [],
   "source": [
    "# Splitting data into x_train & y_train\n",
    "y_train = data_train.pop('cnt')\n",
    "x_train = data_train"
   ]
  },
  {
   "cell_type": "markdown",
   "id": "29e36fc9",
   "metadata": {
    "ExecuteTime": {
     "end_time": "2022-07-11T11:47:55.863585Z",
     "start_time": "2022-07-11T11:47:55.823686Z"
    }
   },
   "source": [
    "Since there are 29 indipendent variable in the x_train, manually selecting/dropping input variable will be too time consuming.\n",
    "- First we'll select features from RFE (Recursive Feature Elimination)\n",
    "- Manually look the results using VIF & P-values"
   ]
  },
  {
   "cell_type": "code",
   "execution_count": 362,
   "id": "c5c52e38",
   "metadata": {
    "ExecuteTime": {
     "end_time": "2022-07-13T14:07:05.038143Z",
     "start_time": "2022-07-13T14:07:04.956537Z"
    }
   },
   "outputs": [],
   "source": [
    "# Running RFE with the output number of the variable equal to 15\n",
    "lr = LinearRegression()\n",
    "lr.fit(x_train, y_train)\n",
    "rfe = RFE(lr)\n",
    "rfe = rfe.fit(x_train, y_train)"
   ]
  },
  {
   "cell_type": "code",
   "execution_count": 363,
   "id": "4f299881",
   "metadata": {
    "ExecuteTime": {
     "end_time": "2022-07-13T14:07:05.065948Z",
     "start_time": "2022-07-13T14:07:05.041783Z"
    }
   },
   "outputs": [
    {
     "data": {
      "text/plain": [
       "[('yr', True, 1),\n",
       " ('holiday', True, 1),\n",
       " ('workingday', False, 4),\n",
       " ('temp', True, 1),\n",
       " ('atemp', True, 1),\n",
       " ('hum', True, 1),\n",
       " ('windspeed', True, 1),\n",
       " ('Fall', True, 1),\n",
       " ('Summer', True, 1),\n",
       " ('Winter', True, 1),\n",
       " ('Apr', False, 12),\n",
       " ('Aug', False, 15),\n",
       " ('Dec', True, 1),\n",
       " ('Feb', False, 11),\n",
       " ('Jul', False, 2),\n",
       " ('Jun', False, 8),\n",
       " ('Mar', False, 5),\n",
       " ('May', False, 7),\n",
       " ('Nov', True, 1),\n",
       " ('Oct', False, 6),\n",
       " ('Sep', True, 1),\n",
       " ('Friday', False, 13),\n",
       " ('Monday', False, 9),\n",
       " ('Saturday', False, 3),\n",
       " ('Thursday', False, 16),\n",
       " ('Tuesday', False, 10),\n",
       " ('Wednesday', False, 14),\n",
       " ('Clear', True, 1),\n",
       " ('Mist', True, 1)]"
      ]
     },
     "execution_count": 363,
     "metadata": {},
     "output_type": "execute_result"
    }
   ],
   "source": [
    "# Checking which parameters have been selected in that list of 15\n",
    "list(zip(x_train.columns,rfe.support_,rfe.ranking_))"
   ]
  },
  {
   "cell_type": "code",
   "execution_count": 364,
   "id": "202c9cb2",
   "metadata": {
    "ExecuteTime": {
     "end_time": "2022-07-13T14:07:05.094511Z",
     "start_time": "2022-07-13T14:07:05.071234Z"
    }
   },
   "outputs": [
    {
     "data": {
      "text/plain": [
       "Index(['yr', 'holiday', 'temp', 'atemp', 'hum', 'windspeed', 'Fall', 'Summer',\n",
       "       'Winter', 'Dec', 'Nov', 'Sep', 'Clear', 'Mist'],\n",
       "      dtype='object')"
      ]
     },
     "execution_count": 364,
     "metadata": {},
     "output_type": "execute_result"
    }
   ],
   "source": [
    "# Getting all the selected features from RFE\n",
    "features = x_train.columns[rfe.support_]\n",
    "features"
   ]
  },
  {
   "cell_type": "code",
   "execution_count": 365,
   "id": "8fcbfbec",
   "metadata": {
    "ExecuteTime": {
     "end_time": "2022-07-13T14:07:05.115041Z",
     "start_time": "2022-07-13T14:07:05.097502Z"
    }
   },
   "outputs": [],
   "source": [
    "# Creating x_train with RFE selected variables\n",
    "x_train_rfe = x_train[features]"
   ]
  },
  {
   "cell_type": "code",
   "execution_count": 366,
   "id": "0f69138f",
   "metadata": {
    "ExecuteTime": {
     "end_time": "2022-07-13T14:07:05.242630Z",
     "start_time": "2022-07-13T14:07:05.117108Z"
    }
   },
   "outputs": [
    {
     "name": "stdout",
     "output_type": "stream",
     "text": [
      "                            OLS Regression Results                            \n",
      "==============================================================================\n",
      "Dep. Variable:                    cnt   R-squared:                       0.838\n",
      "Model:                            OLS   Adj. R-squared:                  0.834\n",
      "Method:                 Least Squares   F-statistic:                     196.5\n",
      "Date:                Wed, 09 Nov 2022   Prob (F-statistic):          1.04e-199\n",
      "Time:                        16:11:34   Log-Likelihood:                 515.68\n",
      "No. Observations:                 547   AIC:                            -1001.\n",
      "Df Residuals:                     532   BIC:                            -936.8\n",
      "Df Model:                          14                                         \n",
      "Covariance Type:            nonrobust                                         \n",
      "==============================================================================\n",
      "                 coef    std err          t      P>|t|      [0.025      0.975]\n",
      "------------------------------------------------------------------------------\n",
      "const         -0.0293      0.046     -0.641      0.522      -0.119       0.060\n",
      "yr             0.2404      0.008     28.862      0.000       0.224       0.257\n",
      "holiday       -0.0811      0.025     -3.303      0.001      -0.129      -0.033\n",
      "temp           0.1521      0.245      0.620      0.536      -0.330       0.634\n",
      "atemp          0.3144      0.259      1.213      0.226      -0.195       0.824\n",
      "hum           -0.1662      0.039     -4.272      0.000      -0.243      -0.090\n",
      "windspeed     -0.1187      0.025     -4.738      0.000      -0.168      -0.069\n",
      "Fall           0.1105      0.022      5.028      0.000       0.067       0.154\n",
      "Summer         0.1564      0.016      9.614      0.000       0.124       0.188\n",
      "Winter         0.2306      0.016     13.987      0.000       0.198       0.263\n",
      "Dec           -0.0660      0.018     -3.699      0.000      -0.101      -0.031\n",
      "Nov           -0.0775      0.019     -4.147      0.000      -0.114      -0.041\n",
      "Sep            0.0863      0.016      5.379      0.000       0.055       0.118\n",
      "Clear          0.2157      0.027      7.975      0.000       0.163       0.269\n",
      "Mist           0.1610      0.025      6.369      0.000       0.111       0.211\n",
      "==============================================================================\n",
      "Omnibus:                       78.143   Durbin-Watson:                   2.003\n",
      "Prob(Omnibus):                  0.000   Jarque-Bera (JB):              155.531\n",
      "Skew:                          -0.815   Prob(JB):                     1.69e-34\n",
      "Kurtosis:                       5.042   Cond. No.                         157.\n",
      "==============================================================================\n",
      "\n",
      "Notes:\n",
      "[1] Standard Errors assume that the covariance matrix of the errors is correctly specified.\n"
     ]
    },
    {
     "data": {
      "text/html": [
       "<div>\n",
       "<style scoped>\n",
       "    .dataframe tbody tr th:only-of-type {\n",
       "        vertical-align: middle;\n",
       "    }\n",
       "\n",
       "    .dataframe tbody tr th {\n",
       "        vertical-align: top;\n",
       "    }\n",
       "\n",
       "    .dataframe thead th {\n",
       "        text-align: right;\n",
       "    }\n",
       "</style>\n",
       "<table border=\"1\" class=\"dataframe\">\n",
       "  <thead>\n",
       "    <tr style=\"text-align: right;\">\n",
       "      <th></th>\n",
       "      <th>Features</th>\n",
       "      <th>VIF</th>\n",
       "    </tr>\n",
       "  </thead>\n",
       "  <tbody>\n",
       "    <tr>\n",
       "      <th>3</th>\n",
       "      <td>atemp</td>\n",
       "      <td>1296.88</td>\n",
       "    </tr>\n",
       "    <tr>\n",
       "      <th>2</th>\n",
       "      <td>temp</td>\n",
       "      <td>1277.78</td>\n",
       "    </tr>\n",
       "    <tr>\n",
       "      <th>4</th>\n",
       "      <td>hum</td>\n",
       "      <td>18.08</td>\n",
       "    </tr>\n",
       "    <tr>\n",
       "      <th>12</th>\n",
       "      <td>Clear</td>\n",
       "      <td>10.73</td>\n",
       "    </tr>\n",
       "    <tr>\n",
       "      <th>13</th>\n",
       "      <td>Mist</td>\n",
       "      <td>7.67</td>\n",
       "    </tr>\n",
       "    <tr>\n",
       "      <th>6</th>\n",
       "      <td>Fall</td>\n",
       "      <td>7.60</td>\n",
       "    </tr>\n",
       "    <tr>\n",
       "      <th>5</th>\n",
       "      <td>windspeed</td>\n",
       "      <td>5.73</td>\n",
       "    </tr>\n",
       "    <tr>\n",
       "      <th>8</th>\n",
       "      <td>Winter</td>\n",
       "      <td>4.16</td>\n",
       "    </tr>\n",
       "    <tr>\n",
       "      <th>7</th>\n",
       "      <td>Summer</td>\n",
       "      <td>4.00</td>\n",
       "    </tr>\n",
       "    <tr>\n",
       "      <th>0</th>\n",
       "      <td>yr</td>\n",
       "      <td>2.10</td>\n",
       "    </tr>\n",
       "    <tr>\n",
       "      <th>10</th>\n",
       "      <td>Nov</td>\n",
       "      <td>1.98</td>\n",
       "    </tr>\n",
       "    <tr>\n",
       "      <th>9</th>\n",
       "      <td>Dec</td>\n",
       "      <td>1.42</td>\n",
       "    </tr>\n",
       "    <tr>\n",
       "      <th>11</th>\n",
       "      <td>Sep</td>\n",
       "      <td>1.34</td>\n",
       "    </tr>\n",
       "    <tr>\n",
       "      <th>1</th>\n",
       "      <td>holiday</td>\n",
       "      <td>1.06</td>\n",
       "    </tr>\n",
       "  </tbody>\n",
       "</table>\n",
       "</div>"
      ],
      "text/plain": [
       "     Features      VIF\n",
       "3       atemp  1296.88\n",
       "2        temp  1277.78\n",
       "4         hum    18.08\n",
       "12      Clear    10.73\n",
       "13       Mist     7.67\n",
       "6        Fall     7.60\n",
       "5   windspeed     5.73\n",
       "8      Winter     4.16\n",
       "7      Summer     4.00\n",
       "0          yr     2.10\n",
       "10        Nov     1.98\n",
       "9         Dec     1.42\n",
       "11        Sep     1.34\n",
       "1     holiday     1.06"
      ]
     },
     "execution_count": 366,
     "metadata": {},
     "output_type": "execute_result"
    }
   ],
   "source": [
    "# Adding constant, fitting the model & observing the result\n",
    "x_train_lm = sm.add_constant(x_train_rfe)\n",
    "lr = sm.OLS(y_train, x_train_lm).fit()\n",
    "print(lr.summary())\n",
    "\n",
    "# Calculate the VIFs for this model\n",
    "vif = pd.DataFrame()\n",
    "vif['Features'] = x_train_rfe.columns\n",
    "vif['VIF'] = [variance_inflation_factor(x_train_rfe.values, i) for i in range(x_train_rfe.shape[1])]\n",
    "vif['VIF'] = round(vif['VIF'], 2)\n",
    "vif = vif.sort_values(by = 'VIF', ascending = False)\n",
    "vif"
   ]
  },
  {
   "cell_type": "code",
   "execution_count": 367,
   "id": "1dc5a8c4",
   "metadata": {
    "ExecuteTime": {
     "end_time": "2022-07-13T14:07:05.356693Z",
     "start_time": "2022-07-13T14:07:05.244774Z"
    }
   },
   "outputs": [
    {
     "name": "stdout",
     "output_type": "stream",
     "text": [
      "                            OLS Regression Results                            \n",
      "==============================================================================\n",
      "Dep. Variable:                    cnt   R-squared:                       0.838\n",
      "Model:                            OLS   Adj. R-squared:                  0.834\n",
      "Method:                 Least Squares   F-statistic:                     211.3\n",
      "Date:                Wed, 09 Nov 2022   Prob (F-statistic):          1.46e-200\n",
      "Time:                        16:11:34   Log-Likelihood:                 514.92\n",
      "No. Observations:                 547   AIC:                            -1002.\n",
      "Df Residuals:                     533   BIC:                            -941.6\n",
      "Df Model:                          13                                         \n",
      "Covariance Type:            nonrobust                                         \n",
      "==============================================================================\n",
      "                 coef    std err          t      P>|t|      [0.025      0.975]\n",
      "------------------------------------------------------------------------------\n",
      "const         -0.0305      0.046     -0.667      0.505      -0.120       0.059\n",
      "yr             0.2407      0.008     28.897      0.000       0.224       0.257\n",
      "holiday       -0.0835      0.024     -3.407      0.001      -0.132      -0.035\n",
      "temp           0.4464      0.036     12.453      0.000       0.376       0.517\n",
      "hum           -0.1606      0.039     -4.155      0.000      -0.236      -0.085\n",
      "windspeed     -0.1269      0.024     -5.262      0.000      -0.174      -0.080\n",
      "Fall           0.1087      0.022      4.954      0.000       0.066       0.152\n",
      "Summer         0.1578      0.016      9.719      0.000       0.126       0.190\n",
      "Winter         0.2323      0.016     14.130      0.000       0.200       0.265\n",
      "Dec           -0.0652      0.018     -3.659      0.000      -0.100      -0.030\n",
      "Nov           -0.0768      0.019     -4.111      0.000      -0.114      -0.040\n",
      "Sep            0.0855      0.016      5.331      0.000       0.054       0.117\n",
      "Clear          0.2201      0.027      8.210      0.000       0.167       0.273\n",
      "Mist           0.1642      0.025      6.527      0.000       0.115       0.214\n",
      "==============================================================================\n",
      "Omnibus:                       75.130   Durbin-Watson:                   2.009\n",
      "Prob(Omnibus):                  0.000   Jarque-Bera (JB):              147.538\n",
      "Skew:                          -0.792   Prob(JB):                     9.17e-33\n",
      "Kurtosis:                       4.992   Cond. No.                         26.3\n",
      "==============================================================================\n",
      "\n",
      "Notes:\n",
      "[1] Standard Errors assume that the covariance matrix of the errors is correctly specified.\n"
     ]
    },
    {
     "data": {
      "text/html": [
       "<div>\n",
       "<style scoped>\n",
       "    .dataframe tbody tr th:only-of-type {\n",
       "        vertical-align: middle;\n",
       "    }\n",
       "\n",
       "    .dataframe tbody tr th {\n",
       "        vertical-align: top;\n",
       "    }\n",
       "\n",
       "    .dataframe thead th {\n",
       "        text-align: right;\n",
       "    }\n",
       "</style>\n",
       "<table border=\"1\" class=\"dataframe\">\n",
       "  <thead>\n",
       "    <tr style=\"text-align: right;\">\n",
       "      <th></th>\n",
       "      <th>Features</th>\n",
       "      <th>VIF</th>\n",
       "    </tr>\n",
       "  </thead>\n",
       "  <tbody>\n",
       "    <tr>\n",
       "      <th>2</th>\n",
       "      <td>temp</td>\n",
       "      <td>27.02</td>\n",
       "    </tr>\n",
       "    <tr>\n",
       "      <th>3</th>\n",
       "      <td>hum</td>\n",
       "      <td>17.64</td>\n",
       "    </tr>\n",
       "    <tr>\n",
       "      <th>11</th>\n",
       "      <td>Clear</td>\n",
       "      <td>10.35</td>\n",
       "    </tr>\n",
       "    <tr>\n",
       "      <th>5</th>\n",
       "      <td>Fall</td>\n",
       "      <td>7.57</td>\n",
       "    </tr>\n",
       "    <tr>\n",
       "      <th>12</th>\n",
       "      <td>Mist</td>\n",
       "      <td>7.56</td>\n",
       "    </tr>\n",
       "    <tr>\n",
       "      <th>4</th>\n",
       "      <td>windspeed</td>\n",
       "      <td>5.11</td>\n",
       "    </tr>\n",
       "    <tr>\n",
       "      <th>7</th>\n",
       "      <td>Winter</td>\n",
       "      <td>4.14</td>\n",
       "    </tr>\n",
       "    <tr>\n",
       "      <th>6</th>\n",
       "      <td>Summer</td>\n",
       "      <td>3.98</td>\n",
       "    </tr>\n",
       "    <tr>\n",
       "      <th>0</th>\n",
       "      <td>yr</td>\n",
       "      <td>2.10</td>\n",
       "    </tr>\n",
       "    <tr>\n",
       "      <th>9</th>\n",
       "      <td>Nov</td>\n",
       "      <td>1.98</td>\n",
       "    </tr>\n",
       "    <tr>\n",
       "      <th>8</th>\n",
       "      <td>Dec</td>\n",
       "      <td>1.42</td>\n",
       "    </tr>\n",
       "    <tr>\n",
       "      <th>10</th>\n",
       "      <td>Sep</td>\n",
       "      <td>1.34</td>\n",
       "    </tr>\n",
       "    <tr>\n",
       "      <th>1</th>\n",
       "      <td>holiday</td>\n",
       "      <td>1.05</td>\n",
       "    </tr>\n",
       "  </tbody>\n",
       "</table>\n",
       "</div>"
      ],
      "text/plain": [
       "     Features    VIF\n",
       "2        temp  27.02\n",
       "3         hum  17.64\n",
       "11      Clear  10.35\n",
       "5        Fall   7.57\n",
       "12       Mist   7.56\n",
       "4   windspeed   5.11\n",
       "7      Winter   4.14\n",
       "6      Summer   3.98\n",
       "0          yr   2.10\n",
       "9         Nov   1.98\n",
       "8         Dec   1.42\n",
       "10        Sep   1.34\n",
       "1     holiday   1.05"
      ]
     },
     "execution_count": 367,
     "metadata": {},
     "output_type": "execute_result"
    }
   ],
   "source": [
    "# Dropping variables\n",
    "x_train_rfe.drop(columns=['atemp'], inplace=True)\n",
    "x_train_lm = sm.add_constant(x_train_rfe)\n",
    "lr = sm.OLS(y_train, x_train_lm).fit()\n",
    "print(lr.summary())\n",
    "\n",
    "# Calculate the VIFs for this model\n",
    "vif = pd.DataFrame()\n",
    "vif['Features'] = x_train_rfe.columns\n",
    "vif['VIF'] = [variance_inflation_factor(x_train_rfe.values, i) for i in range(x_train_rfe.shape[1])]\n",
    "vif['VIF'] = round(vif['VIF'], 2)\n",
    "vif = vif.sort_values(by = 'VIF', ascending = False)\n",
    "vif"
   ]
  },
  {
   "cell_type": "code",
   "execution_count": 368,
   "id": "27fa4914",
   "metadata": {
    "ExecuteTime": {
     "end_time": "2022-07-13T14:07:05.466575Z",
     "start_time": "2022-07-13T14:07:05.358842Z"
    }
   },
   "outputs": [
    {
     "name": "stdout",
     "output_type": "stream",
     "text": [
      "                            OLS Regression Results                            \n",
      "==============================================================================\n",
      "Dep. Variable:                    cnt   R-squared:                       0.832\n",
      "Model:                            OLS   Adj. R-squared:                  0.828\n",
      "Method:                 Least Squares   F-statistic:                     220.8\n",
      "Date:                Wed, 09 Nov 2022   Prob (F-statistic):          4.54e-198\n",
      "Time:                        16:11:34   Log-Likelihood:                 506.20\n",
      "No. Observations:                 547   AIC:                            -986.4\n",
      "Df Residuals:                     534   BIC:                            -930.5\n",
      "Df Model:                          12                                         \n",
      "Covariance Type:            nonrobust                                         \n",
      "==============================================================================\n",
      "                 coef    std err          t      P>|t|      [0.025      0.975]\n",
      "------------------------------------------------------------------------------\n",
      "const         -0.1727      0.031     -5.617      0.000      -0.233      -0.112\n",
      "yr             0.2456      0.008     29.342      0.000       0.229       0.262\n",
      "holiday       -0.0835      0.025     -3.360      0.001      -0.132      -0.035\n",
      "temp           0.4207      0.036     11.737      0.000       0.350       0.491\n",
      "windspeed     -0.0982      0.023     -4.187      0.000      -0.144      -0.052\n",
      "Fall           0.1162      0.022      5.236      0.000       0.073       0.160\n",
      "Summer         0.1602      0.016      9.727      0.000       0.128       0.193\n",
      "Winter         0.2296      0.017     13.771      0.000       0.197       0.262\n",
      "Dec           -0.0720      0.018     -3.992      0.000      -0.107      -0.037\n",
      "Nov           -0.0772      0.019     -4.068      0.000      -0.114      -0.040\n",
      "Sep            0.0754      0.016      4.687      0.000       0.044       0.107\n",
      "Clear          0.2670      0.025     10.814      0.000       0.218       0.316\n",
      "Mist           0.1850      0.025      7.392      0.000       0.136       0.234\n",
      "==============================================================================\n",
      "Omnibus:                       71.502   Durbin-Watson:                   2.026\n",
      "Prob(Omnibus):                  0.000   Jarque-Bera (JB):              142.491\n",
      "Skew:                          -0.753   Prob(JB):                     1.14e-31\n",
      "Kurtosis:                       4.997   Cond. No.                         18.1\n",
      "==============================================================================\n",
      "\n",
      "Notes:\n",
      "[1] Standard Errors assume that the covariance matrix of the errors is correctly specified.\n"
     ]
    },
    {
     "data": {
      "text/html": [
       "<div>\n",
       "<style scoped>\n",
       "    .dataframe tbody tr th:only-of-type {\n",
       "        vertical-align: middle;\n",
       "    }\n",
       "\n",
       "    .dataframe tbody tr th {\n",
       "        vertical-align: top;\n",
       "    }\n",
       "\n",
       "    .dataframe thead th {\n",
       "        text-align: right;\n",
       "    }\n",
       "</style>\n",
       "<table border=\"1\" class=\"dataframe\">\n",
       "  <thead>\n",
       "    <tr style=\"text-align: right;\">\n",
       "      <th></th>\n",
       "      <th>Features</th>\n",
       "      <th>VIF</th>\n",
       "    </tr>\n",
       "  </thead>\n",
       "  <tbody>\n",
       "    <tr>\n",
       "      <th>2</th>\n",
       "      <td>temp</td>\n",
       "      <td>23.23</td>\n",
       "    </tr>\n",
       "    <tr>\n",
       "      <th>10</th>\n",
       "      <td>Clear</td>\n",
       "      <td>8.64</td>\n",
       "    </tr>\n",
       "    <tr>\n",
       "      <th>4</th>\n",
       "      <td>Fall</td>\n",
       "      <td>7.38</td>\n",
       "    </tr>\n",
       "    <tr>\n",
       "      <th>11</th>\n",
       "      <td>Mist</td>\n",
       "      <td>5.15</td>\n",
       "    </tr>\n",
       "    <tr>\n",
       "      <th>3</th>\n",
       "      <td>windspeed</td>\n",
       "      <td>4.91</td>\n",
       "    </tr>\n",
       "    <tr>\n",
       "      <th>6</th>\n",
       "      <td>Winter</td>\n",
       "      <td>4.12</td>\n",
       "    </tr>\n",
       "    <tr>\n",
       "      <th>5</th>\n",
       "      <td>Summer</td>\n",
       "      <td>3.95</td>\n",
       "    </tr>\n",
       "    <tr>\n",
       "      <th>0</th>\n",
       "      <td>yr</td>\n",
       "      <td>2.10</td>\n",
       "    </tr>\n",
       "    <tr>\n",
       "      <th>8</th>\n",
       "      <td>Nov</td>\n",
       "      <td>1.97</td>\n",
       "    </tr>\n",
       "    <tr>\n",
       "      <th>7</th>\n",
       "      <td>Dec</td>\n",
       "      <td>1.36</td>\n",
       "    </tr>\n",
       "    <tr>\n",
       "      <th>9</th>\n",
       "      <td>Sep</td>\n",
       "      <td>1.32</td>\n",
       "    </tr>\n",
       "    <tr>\n",
       "      <th>1</th>\n",
       "      <td>holiday</td>\n",
       "      <td>1.05</td>\n",
       "    </tr>\n",
       "  </tbody>\n",
       "</table>\n",
       "</div>"
      ],
      "text/plain": [
       "     Features    VIF\n",
       "2        temp  23.23\n",
       "10      Clear   8.64\n",
       "4        Fall   7.38\n",
       "11       Mist   5.15\n",
       "3   windspeed   4.91\n",
       "6      Winter   4.12\n",
       "5      Summer   3.95\n",
       "0          yr   2.10\n",
       "8         Nov   1.97\n",
       "7         Dec   1.36\n",
       "9         Sep   1.32\n",
       "1     holiday   1.05"
      ]
     },
     "execution_count": 368,
     "metadata": {},
     "output_type": "execute_result"
    }
   ],
   "source": [
    "# Dropping variables\n",
    "x_train_rfe.drop(columns=['hum'], inplace=True)\n",
    "x_train_lm = sm.add_constant(x_train_rfe)\n",
    "lr = sm.OLS(y_train, x_train_lm).fit()\n",
    "print(lr.summary())\n",
    "\n",
    "# Calculate the VIFs for this model\n",
    "vif = pd.DataFrame()\n",
    "vif['Features'] = x_train_rfe.columns\n",
    "vif['VIF'] = [variance_inflation_factor(x_train_rfe.values, i) for i in range(x_train_rfe.shape[1])]\n",
    "vif['VIF'] = round(vif['VIF'], 2)\n",
    "vif = vif.sort_values(by = 'VIF', ascending = False)\n",
    "vif"
   ]
  },
  {
   "cell_type": "code",
   "execution_count": 369,
   "id": "49ce4e7d",
   "metadata": {
    "ExecuteTime": {
     "end_time": "2022-07-13T14:07:05.574984Z",
     "start_time": "2022-07-13T14:07:05.468685Z"
    }
   },
   "outputs": [
    {
     "name": "stdout",
     "output_type": "stream",
     "text": [
      "                            OLS Regression Results                            \n",
      "==============================================================================\n",
      "Dep. Variable:                    cnt   R-squared:                       0.815\n",
      "Model:                            OLS   Adj. R-squared:                  0.811\n",
      "Method:                 Least Squares   F-statistic:                     214.4\n",
      "Date:                Wed, 09 Nov 2022   Prob (F-statistic):          5.41e-188\n",
      "Time:                        16:11:35   Log-Likelihood:                 479.56\n",
      "No. Observations:                 547   AIC:                            -935.1\n",
      "Df Residuals:                     535   BIC:                            -883.5\n",
      "Df Model:                          11                                         \n",
      "Covariance Type:            nonrobust                                         \n",
      "==============================================================================\n",
      "                 coef    std err          t      P>|t|      [0.025      0.975]\n",
      "------------------------------------------------------------------------------\n",
      "const          0.0016      0.021      0.076      0.939      -0.039       0.042\n",
      "yr             0.2508      0.009     28.668      0.000       0.234       0.268\n",
      "holiday       -0.0789      0.026     -3.026      0.003      -0.130      -0.028\n",
      "temp           0.4317      0.038     11.493      0.000       0.358       0.506\n",
      "windspeed     -0.1200      0.024     -4.915      0.000      -0.168      -0.072\n",
      "Fall           0.1100      0.023      4.728      0.000       0.064       0.156\n",
      "Summer         0.1588      0.017      9.189      0.000       0.125       0.193\n",
      "Winter         0.2200      0.017     12.617      0.000       0.186       0.254\n",
      "Dec           -0.0737      0.019     -3.900      0.000      -0.111      -0.037\n",
      "Nov           -0.0724      0.020     -3.641      0.000      -0.111      -0.033\n",
      "Sep            0.0779      0.017      4.618      0.000       0.045       0.111\n",
      "Clear          0.0963      0.009     10.502      0.000       0.078       0.114\n",
      "==============================================================================\n",
      "Omnibus:                       68.983   Durbin-Watson:                   1.980\n",
      "Prob(Omnibus):                  0.000   Jarque-Bera (JB):              123.931\n",
      "Skew:                          -0.767   Prob(JB):                     1.23e-27\n",
      "Kurtosis:                       4.756   Cond. No.                         17.3\n",
      "==============================================================================\n",
      "\n",
      "Notes:\n",
      "[1] Standard Errors assume that the covariance matrix of the errors is correctly specified.\n"
     ]
    },
    {
     "data": {
      "text/html": [
       "<div>\n",
       "<style scoped>\n",
       "    .dataframe tbody tr th:only-of-type {\n",
       "        vertical-align: middle;\n",
       "    }\n",
       "\n",
       "    .dataframe tbody tr th {\n",
       "        vertical-align: top;\n",
       "    }\n",
       "\n",
       "    .dataframe thead th {\n",
       "        text-align: right;\n",
       "    }\n",
       "</style>\n",
       "<table border=\"1\" class=\"dataframe\">\n",
       "  <thead>\n",
       "    <tr style=\"text-align: right;\">\n",
       "      <th></th>\n",
       "      <th>Features</th>\n",
       "      <th>VIF</th>\n",
       "    </tr>\n",
       "  </thead>\n",
       "  <tbody>\n",
       "    <tr>\n",
       "      <th>2</th>\n",
       "      <td>temp</td>\n",
       "      <td>17.06</td>\n",
       "    </tr>\n",
       "    <tr>\n",
       "      <th>4</th>\n",
       "      <td>Fall</td>\n",
       "      <td>6.99</td>\n",
       "    </tr>\n",
       "    <tr>\n",
       "      <th>6</th>\n",
       "      <td>Winter</td>\n",
       "      <td>4.10</td>\n",
       "    </tr>\n",
       "    <tr>\n",
       "      <th>5</th>\n",
       "      <td>Summer</td>\n",
       "      <td>3.90</td>\n",
       "    </tr>\n",
       "    <tr>\n",
       "      <th>3</th>\n",
       "      <td>windspeed</td>\n",
       "      <td>3.87</td>\n",
       "    </tr>\n",
       "    <tr>\n",
       "      <th>10</th>\n",
       "      <td>Clear</td>\n",
       "      <td>2.56</td>\n",
       "    </tr>\n",
       "    <tr>\n",
       "      <th>0</th>\n",
       "      <td>yr</td>\n",
       "      <td>2.02</td>\n",
       "    </tr>\n",
       "    <tr>\n",
       "      <th>8</th>\n",
       "      <td>Nov</td>\n",
       "      <td>1.93</td>\n",
       "    </tr>\n",
       "    <tr>\n",
       "      <th>9</th>\n",
       "      <td>Sep</td>\n",
       "      <td>1.31</td>\n",
       "    </tr>\n",
       "    <tr>\n",
       "      <th>7</th>\n",
       "      <td>Dec</td>\n",
       "      <td>1.30</td>\n",
       "    </tr>\n",
       "    <tr>\n",
       "      <th>1</th>\n",
       "      <td>holiday</td>\n",
       "      <td>1.05</td>\n",
       "    </tr>\n",
       "  </tbody>\n",
       "</table>\n",
       "</div>"
      ],
      "text/plain": [
       "     Features    VIF\n",
       "2        temp  17.06\n",
       "4        Fall   6.99\n",
       "6      Winter   4.10\n",
       "5      Summer   3.90\n",
       "3   windspeed   3.87\n",
       "10      Clear   2.56\n",
       "0          yr   2.02\n",
       "8         Nov   1.93\n",
       "9         Sep   1.31\n",
       "7         Dec   1.30\n",
       "1     holiday   1.05"
      ]
     },
     "execution_count": 369,
     "metadata": {},
     "output_type": "execute_result"
    }
   ],
   "source": [
    "# Dropping variables\n",
    "x_train_rfe.drop(columns=['Mist'], inplace=True)\n",
    "x_train_lm = sm.add_constant(x_train_rfe)\n",
    "lr = sm.OLS(y_train, x_train_lm).fit()\n",
    "print(lr.summary())\n",
    "\n",
    "# Calculate the VIFs for this model\n",
    "vif = pd.DataFrame()\n",
    "vif['Features'] = x_train_rfe.columns\n",
    "vif['VIF'] = [variance_inflation_factor(x_train_rfe.values, i) for i in range(x_train_rfe.shape[1])]\n",
    "vif['VIF'] = round(vif['VIF'], 2)\n",
    "vif = vif.sort_values(by = 'VIF', ascending = False)\n",
    "vif"
   ]
  },
  {
   "cell_type": "code",
   "execution_count": 370,
   "id": "bf61185c",
   "metadata": {
    "ExecuteTime": {
     "end_time": "2022-07-13T14:07:05.761249Z",
     "start_time": "2022-07-13T14:07:05.672361Z"
    }
   },
   "outputs": [
    {
     "name": "stdout",
     "output_type": "stream",
     "text": [
      "                            OLS Regression Results                            \n",
      "==============================================================================\n",
      "Dep. Variable:                    cnt   R-squared:                       0.807\n",
      "Model:                            OLS   Adj. R-squared:                  0.804\n",
      "Method:                 Least Squares   F-statistic:                     224.7\n",
      "Date:                Wed, 09 Nov 2022   Prob (F-statistic):          1.92e-184\n",
      "Time:                        16:11:36   Log-Likelihood:                 468.36\n",
      "No. Observations:                 547   AIC:                            -914.7\n",
      "Df Residuals:                     536   BIC:                            -867.4\n",
      "Df Model:                          10                                         \n",
      "Covariance Type:            nonrobust                                         \n",
      "==============================================================================\n",
      "                 coef    std err          t      P>|t|      [0.025      0.975]\n",
      "------------------------------------------------------------------------------\n",
      "const         -0.0243      0.020     -1.195      0.233      -0.064       0.016\n",
      "yr             0.2487      0.009     27.919      0.000       0.231       0.266\n",
      "holiday       -0.0838      0.027     -3.155      0.002      -0.136      -0.032\n",
      "temp           0.5766      0.022     26.005      0.000       0.533       0.620\n",
      "windspeed     -0.1180      0.025     -4.739      0.000      -0.167      -0.069\n",
      "Summer         0.0962      0.011      8.496      0.000       0.074       0.118\n",
      "Winter         0.1671      0.014     12.248      0.000       0.140       0.194\n",
      "Dec           -0.0619      0.019     -3.240      0.001      -0.099      -0.024\n",
      "Nov           -0.0491      0.020     -2.500      0.013      -0.088      -0.011\n",
      "Sep            0.0982      0.017      5.898      0.000       0.065       0.131\n",
      "Clear          0.0961      0.009     10.274      0.000       0.078       0.114\n",
      "==============================================================================\n",
      "Omnibus:                       47.288   Durbin-Watson:                   2.001\n",
      "Prob(Omnibus):                  0.000   Jarque-Bera (JB):               69.820\n",
      "Skew:                          -0.626   Prob(JB):                     6.90e-16\n",
      "Kurtosis:                       4.224   Cond. No.                         11.3\n",
      "==============================================================================\n",
      "\n",
      "Notes:\n",
      "[1] Standard Errors assume that the covariance matrix of the errors is correctly specified.\n"
     ]
    },
    {
     "data": {
      "text/html": [
       "<div>\n",
       "<style scoped>\n",
       "    .dataframe tbody tr th:only-of-type {\n",
       "        vertical-align: middle;\n",
       "    }\n",
       "\n",
       "    .dataframe tbody tr th {\n",
       "        vertical-align: top;\n",
       "    }\n",
       "\n",
       "    .dataframe thead th {\n",
       "        text-align: right;\n",
       "    }\n",
       "</style>\n",
       "<table border=\"1\" class=\"dataframe\">\n",
       "  <thead>\n",
       "    <tr style=\"text-align: right;\">\n",
       "      <th></th>\n",
       "      <th>Features</th>\n",
       "      <th>VIF</th>\n",
       "    </tr>\n",
       "  </thead>\n",
       "  <tbody>\n",
       "    <tr>\n",
       "      <th>2</th>\n",
       "      <td>temp</td>\n",
       "      <td>4.75</td>\n",
       "    </tr>\n",
       "    <tr>\n",
       "      <th>3</th>\n",
       "      <td>windspeed</td>\n",
       "      <td>3.71</td>\n",
       "    </tr>\n",
       "    <tr>\n",
       "      <th>9</th>\n",
       "      <td>Clear</td>\n",
       "      <td>2.54</td>\n",
       "    </tr>\n",
       "    <tr>\n",
       "      <th>5</th>\n",
       "      <td>Winter</td>\n",
       "      <td>2.30</td>\n",
       "    </tr>\n",
       "    <tr>\n",
       "      <th>0</th>\n",
       "      <td>yr</td>\n",
       "      <td>1.99</td>\n",
       "    </tr>\n",
       "    <tr>\n",
       "      <th>7</th>\n",
       "      <td>Nov</td>\n",
       "      <td>1.84</td>\n",
       "    </tr>\n",
       "    <tr>\n",
       "      <th>4</th>\n",
       "      <td>Summer</td>\n",
       "      <td>1.62</td>\n",
       "    </tr>\n",
       "    <tr>\n",
       "      <th>6</th>\n",
       "      <td>Dec</td>\n",
       "      <td>1.30</td>\n",
       "    </tr>\n",
       "    <tr>\n",
       "      <th>8</th>\n",
       "      <td>Sep</td>\n",
       "      <td>1.23</td>\n",
       "    </tr>\n",
       "    <tr>\n",
       "      <th>1</th>\n",
       "      <td>holiday</td>\n",
       "      <td>1.04</td>\n",
       "    </tr>\n",
       "  </tbody>\n",
       "</table>\n",
       "</div>"
      ],
      "text/plain": [
       "    Features   VIF\n",
       "2       temp  4.75\n",
       "3  windspeed  3.71\n",
       "9      Clear  2.54\n",
       "5     Winter  2.30\n",
       "0         yr  1.99\n",
       "7        Nov  1.84\n",
       "4     Summer  1.62\n",
       "6        Dec  1.30\n",
       "8        Sep  1.23\n",
       "1    holiday  1.04"
      ]
     },
     "execution_count": 370,
     "metadata": {},
     "output_type": "execute_result"
    }
   ],
   "source": [
    "# Dropping variables\n",
    "x_train_rfe.drop(columns=['Fall'], inplace=True)\n",
    "x_train_lm = sm.add_constant(x_train_rfe)\n",
    "lr = sm.OLS(y_train, x_train_lm).fit()\n",
    "print(lr.summary())\n",
    "\n",
    "# Calculate the VIFs for this model\n",
    "vif = pd.DataFrame()\n",
    "vif['Features'] = x_train_rfe.columns\n",
    "vif['VIF'] = [variance_inflation_factor(x_train_rfe.values, i) for i in range(x_train_rfe.shape[1])]\n",
    "vif['VIF'] = round(vif['VIF'], 2)\n",
    "vif = vif.sort_values(by = 'VIF', ascending = False)\n",
    "vif"
   ]
  },
  {
   "cell_type": "code",
   "execution_count": 371,
   "id": "22ad2af8",
   "metadata": {
    "ExecuteTime": {
     "end_time": "2022-07-13T14:07:05.901702Z",
     "start_time": "2022-07-13T14:07:05.765640Z"
    }
   },
   "outputs": [
    {
     "name": "stdout",
     "output_type": "stream",
     "text": [
      "                            OLS Regression Results                            \n",
      "==============================================================================\n",
      "Dep. Variable:                    cnt   R-squared:                       0.805\n",
      "Model:                            OLS   Adj. R-squared:                  0.802\n",
      "Method:                 Least Squares   F-statistic:                     246.5\n",
      "Date:                Wed, 09 Nov 2022   Prob (F-statistic):          2.63e-184\n",
      "Time:                        16:11:36   Log-Likelihood:                 465.19\n",
      "No. Observations:                 547   AIC:                            -910.4\n",
      "Df Residuals:                     537   BIC:                            -867.3\n",
      "Df Model:                           9                                         \n",
      "Covariance Type:            nonrobust                                         \n",
      "==============================================================================\n",
      "                 coef    std err          t      P>|t|      [0.025      0.975]\n",
      "------------------------------------------------------------------------------\n",
      "const         -0.0296      0.020     -1.454      0.146      -0.070       0.010\n",
      "yr             0.2494      0.009     27.873      0.000       0.232       0.267\n",
      "holiday       -0.0885      0.027     -3.324      0.001      -0.141      -0.036\n",
      "temp           0.5862      0.022     26.712      0.000       0.543       0.629\n",
      "windspeed     -0.1190      0.025     -4.757      0.000      -0.168      -0.070\n",
      "Summer         0.0970      0.011      8.532      0.000       0.075       0.119\n",
      "Winter         0.1479      0.011     13.056      0.000       0.126       0.170\n",
      "Dec           -0.0465      0.018     -2.559      0.011      -0.082      -0.011\n",
      "Sep            0.1028      0.017      6.186      0.000       0.070       0.135\n",
      "Clear          0.0939      0.009     10.039      0.000       0.076       0.112\n",
      "==============================================================================\n",
      "Omnibus:                       47.480   Durbin-Watson:                   2.016\n",
      "Prob(Omnibus):                  0.000   Jarque-Bera (JB):               69.743\n",
      "Skew:                          -0.630   Prob(JB):                     7.17e-16\n",
      "Kurtosis:                       4.214   Cond. No.                         11.2\n",
      "==============================================================================\n",
      "\n",
      "Notes:\n",
      "[1] Standard Errors assume that the covariance matrix of the errors is correctly specified.\n"
     ]
    },
    {
     "data": {
      "text/html": [
       "<div>\n",
       "<style scoped>\n",
       "    .dataframe tbody tr th:only-of-type {\n",
       "        vertical-align: middle;\n",
       "    }\n",
       "\n",
       "    .dataframe tbody tr th {\n",
       "        vertical-align: top;\n",
       "    }\n",
       "\n",
       "    .dataframe thead th {\n",
       "        text-align: right;\n",
       "    }\n",
       "</style>\n",
       "<table border=\"1\" class=\"dataframe\">\n",
       "  <thead>\n",
       "    <tr style=\"text-align: right;\">\n",
       "      <th></th>\n",
       "      <th>Features</th>\n",
       "      <th>VIF</th>\n",
       "    </tr>\n",
       "  </thead>\n",
       "  <tbody>\n",
       "    <tr>\n",
       "      <th>2</th>\n",
       "      <td>temp</td>\n",
       "      <td>4.66</td>\n",
       "    </tr>\n",
       "    <tr>\n",
       "      <th>3</th>\n",
       "      <td>windspeed</td>\n",
       "      <td>3.67</td>\n",
       "    </tr>\n",
       "    <tr>\n",
       "      <th>8</th>\n",
       "      <td>Clear</td>\n",
       "      <td>2.50</td>\n",
       "    </tr>\n",
       "    <tr>\n",
       "      <th>0</th>\n",
       "      <td>yr</td>\n",
       "      <td>1.99</td>\n",
       "    </tr>\n",
       "    <tr>\n",
       "      <th>4</th>\n",
       "      <td>Summer</td>\n",
       "      <td>1.62</td>\n",
       "    </tr>\n",
       "    <tr>\n",
       "      <th>5</th>\n",
       "      <td>Winter</td>\n",
       "      <td>1.46</td>\n",
       "    </tr>\n",
       "    <tr>\n",
       "      <th>7</th>\n",
       "      <td>Sep</td>\n",
       "      <td>1.22</td>\n",
       "    </tr>\n",
       "    <tr>\n",
       "      <th>6</th>\n",
       "      <td>Dec</td>\n",
       "      <td>1.17</td>\n",
       "    </tr>\n",
       "    <tr>\n",
       "      <th>1</th>\n",
       "      <td>holiday</td>\n",
       "      <td>1.04</td>\n",
       "    </tr>\n",
       "  </tbody>\n",
       "</table>\n",
       "</div>"
      ],
      "text/plain": [
       "    Features   VIF\n",
       "2       temp  4.66\n",
       "3  windspeed  3.67\n",
       "8      Clear  2.50\n",
       "0         yr  1.99\n",
       "4     Summer  1.62\n",
       "5     Winter  1.46\n",
       "7        Sep  1.22\n",
       "6        Dec  1.17\n",
       "1    holiday  1.04"
      ]
     },
     "execution_count": 371,
     "metadata": {},
     "output_type": "execute_result"
    }
   ],
   "source": [
    "# Dropping variables\n",
    "x_train_rfe.drop(columns=['Nov'], inplace=True)\n",
    "x_train_lm = sm.add_constant(x_train_rfe)\n",
    "lr = sm.OLS(y_train, x_train_lm).fit()\n",
    "print(lr.summary())\n",
    "\n",
    "# Calculate the VIFs for this model\n",
    "vif = pd.DataFrame()\n",
    "vif['Features'] = x_train_rfe.columns\n",
    "vif['VIF'] = [variance_inflation_factor(x_train_rfe.values, i) for i in range(x_train_rfe.shape[1])]\n",
    "vif['VIF'] = round(vif['VIF'], 2)\n",
    "vif = vif.sort_values(by = 'VIF', ascending = False)\n",
    "vif"
   ]
  },
  {
   "cell_type": "code",
   "execution_count": 372,
   "id": "ef95cb47",
   "metadata": {
    "ExecuteTime": {
     "end_time": "2022-07-13T14:07:06.021114Z",
     "start_time": "2022-07-13T14:07:05.906172Z"
    }
   },
   "outputs": [
    {
     "name": "stdout",
     "output_type": "stream",
     "text": [
      "                            OLS Regression Results                            \n",
      "==============================================================================\n",
      "Dep. Variable:                    cnt   R-squared:                       0.803\n",
      "Model:                            OLS   Adj. R-squared:                  0.800\n",
      "Method:                 Least Squares   F-statistic:                     273.7\n",
      "Date:                Wed, 09 Nov 2022   Prob (F-statistic):          3.95e-184\n",
      "Time:                        16:11:36   Log-Likelihood:                 461.88\n",
      "No. Observations:                 547   AIC:                            -905.8\n",
      "Df Residuals:                     538   BIC:                            -867.0\n",
      "Df Model:                           8                                         \n",
      "Covariance Type:            nonrobust                                         \n",
      "==============================================================================\n",
      "                 coef    std err          t      P>|t|      [0.025      0.975]\n",
      "------------------------------------------------------------------------------\n",
      "const         -0.0420      0.020     -2.115      0.035      -0.081      -0.003\n",
      "yr             0.2484      0.009     27.643      0.000       0.231       0.266\n",
      "holiday       -0.0889      0.027     -3.323      0.001      -0.142      -0.036\n",
      "temp           0.5978      0.022     27.697      0.000       0.555       0.640\n",
      "windspeed     -0.1143      0.025     -4.561      0.000      -0.164      -0.065\n",
      "Summer         0.0994      0.011      8.729      0.000       0.077       0.122\n",
      "Winter         0.1437      0.011     12.753      0.000       0.122       0.166\n",
      "Sep            0.1058      0.017      6.346      0.000       0.073       0.139\n",
      "Clear          0.0962      0.009     10.274      0.000       0.078       0.115\n",
      "==============================================================================\n",
      "Omnibus:                       47.237   Durbin-Watson:                   2.016\n",
      "Prob(Omnibus):                  0.000   Jarque-Bera (JB):               68.333\n",
      "Skew:                          -0.633   Prob(JB):                     1.45e-15\n",
      "Kurtosis:                       4.181   Cond. No.                         10.9\n",
      "==============================================================================\n",
      "\n",
      "Notes:\n",
      "[1] Standard Errors assume that the covariance matrix of the errors is correctly specified.\n"
     ]
    },
    {
     "data": {
      "text/html": [
       "<div>\n",
       "<style scoped>\n",
       "    .dataframe tbody tr th:only-of-type {\n",
       "        vertical-align: middle;\n",
       "    }\n",
       "\n",
       "    .dataframe tbody tr th {\n",
       "        vertical-align: top;\n",
       "    }\n",
       "\n",
       "    .dataframe thead th {\n",
       "        text-align: right;\n",
       "    }\n",
       "</style>\n",
       "<table border=\"1\" class=\"dataframe\">\n",
       "  <thead>\n",
       "    <tr style=\"text-align: right;\">\n",
       "      <th></th>\n",
       "      <th>Features</th>\n",
       "      <th>VIF</th>\n",
       "    </tr>\n",
       "  </thead>\n",
       "  <tbody>\n",
       "    <tr>\n",
       "      <th>2</th>\n",
       "      <td>temp</td>\n",
       "      <td>4.64</td>\n",
       "    </tr>\n",
       "    <tr>\n",
       "      <th>3</th>\n",
       "      <td>windspeed</td>\n",
       "      <td>3.62</td>\n",
       "    </tr>\n",
       "    <tr>\n",
       "      <th>7</th>\n",
       "      <td>Clear</td>\n",
       "      <td>2.50</td>\n",
       "    </tr>\n",
       "    <tr>\n",
       "      <th>0</th>\n",
       "      <td>yr</td>\n",
       "      <td>1.97</td>\n",
       "    </tr>\n",
       "    <tr>\n",
       "      <th>4</th>\n",
       "      <td>Summer</td>\n",
       "      <td>1.61</td>\n",
       "    </tr>\n",
       "    <tr>\n",
       "      <th>5</th>\n",
       "      <td>Winter</td>\n",
       "      <td>1.37</td>\n",
       "    </tr>\n",
       "    <tr>\n",
       "      <th>6</th>\n",
       "      <td>Sep</td>\n",
       "      <td>1.21</td>\n",
       "    </tr>\n",
       "    <tr>\n",
       "      <th>1</th>\n",
       "      <td>holiday</td>\n",
       "      <td>1.04</td>\n",
       "    </tr>\n",
       "  </tbody>\n",
       "</table>\n",
       "</div>"
      ],
      "text/plain": [
       "    Features   VIF\n",
       "2       temp  4.64\n",
       "3  windspeed  3.62\n",
       "7      Clear  2.50\n",
       "0         yr  1.97\n",
       "4     Summer  1.61\n",
       "5     Winter  1.37\n",
       "6        Sep  1.21\n",
       "1    holiday  1.04"
      ]
     },
     "execution_count": 372,
     "metadata": {},
     "output_type": "execute_result"
    }
   ],
   "source": [
    "# Dropping variables\n",
    "x_train_rfe.drop(columns=['Dec'], inplace=True)\n",
    "x_train_lm = sm.add_constant(x_train_rfe)\n",
    "lr = sm.OLS(y_train, x_train_lm).fit()\n",
    "print(lr.summary())\n",
    "\n",
    "# Calculate the VIFs for this model\n",
    "vif = pd.DataFrame()\n",
    "vif['Features'] = x_train_rfe.columns\n",
    "vif['VIF'] = [variance_inflation_factor(x_train_rfe.values, i) for i in range(x_train_rfe.shape[1])]\n",
    "vif['VIF'] = round(vif['VIF'], 2)\n",
    "vif = vif.sort_values(by = 'VIF', ascending = False)\n",
    "vif"
   ]
  },
  {
   "cell_type": "markdown",
   "id": "252f0e53",
   "metadata": {},
   "source": [
    "Now that we have all the VIF values below 5 & good p-values, lets finalize this model"
   ]
  },
  {
   "cell_type": "markdown",
   "id": "30da2ce9",
   "metadata": {},
   "source": [
    "## 7. Model Interpretation"
   ]
  },
  {
   "cell_type": "markdown",
   "id": "87942f20",
   "metadata": {},
   "source": [
    "1. HYPOTHESIS TESTING: Since all our coefficients are not equal to zero, which means we Reject Null Hypothesis.\n",
    "2. F-Statistics: The F-Statistics value of `273.7` (which is greater than 1) and the p-value of `~0.0000` states that the overall model is significant."
   ]
  },
  {
   "cell_type": "markdown",
   "id": "8a645c76",
   "metadata": {},
   "source": [
    "## 8. Residual Analysis \n",
    "- Linear Relationship\n",
    "- Normality of Errors\n",
    "- Homoscedasticity\n",
    "- Independence of residuals\n",
    "- Absence of Multicollinearity"
   ]
  },
  {
   "cell_type": "code",
   "execution_count": 373,
   "id": "cb497a0e",
   "metadata": {
    "ExecuteTime": {
     "end_time": "2022-07-13T14:07:06.041661Z",
     "start_time": "2022-07-13T14:07:06.026075Z"
    }
   },
   "outputs": [],
   "source": [
    "y_train_pred = lr.predict(x_train_lm)\n",
    "error = y_train - y_train_pred"
   ]
  },
  {
   "cell_type": "markdown",
   "id": "0189a911",
   "metadata": {},
   "source": [
    "**8.1 - Linear Relationship**"
   ]
  },
  {
   "cell_type": "code",
   "execution_count": 374,
   "id": "428fee2c",
   "metadata": {
    "ExecuteTime": {
     "end_time": "2022-07-13T14:07:06.387721Z",
     "start_time": "2022-07-13T14:07:06.044852Z"
    }
   },
   "outputs": [
    {
     "data": {
      "image/png": "[encoded data removed]",
      "text/plain": [
       "<Figure size 432x288 with 1 Axes>"
      ]
     },
     "metadata": {},
     "output_type": "display_data"
    }
   ],
   "source": [
    "# A partial residual plot\n",
    "sm.graphics.plot_ccpr(lr, 'temp')\n",
    "plt.show()"
   ]
  },
  {
   "cell_type": "markdown",
   "id": "66b1bdad",
   "metadata": {},
   "source": [
    "A partial residual plot is a graphical technique that attempts to show the relationship between a given independent variable and the response variable given that other independent variables are also in the model."
   ]
  },
  {
   "cell_type": "markdown",
   "id": "164376a1",
   "metadata": {},
   "source": [
    "**8.2 - Normality of Errors**"
   ]
  },
  {
   "cell_type": "code",
   "execution_count": 375,
   "id": "dc2c5816",
   "metadata": {
    "ExecuteTime": {
     "end_time": "2022-07-13T14:07:06.955446Z",
     "start_time": "2022-07-13T14:07:06.392062Z"
    }
   },
   "outputs": [
    {
     "data": {
      "image/png": "[encoded data removed]",
      "text/plain": [
       "<Figure size 720x432 with 1 Axes>"
      ]
     },
     "metadata": {},
     "output_type": "display_data"
    }
   ],
   "source": [
    "plt.figure(figsize = (10, 6))\n",
    "sns.set_style(\"darkgrid\")\n",
    "sns.distplot(error)\n",
    "plt.title('Distribution of Error Terms')\n",
    "plt.show()"
   ]
  },
  {
   "cell_type": "markdown",
   "id": "e86b422c",
   "metadata": {},
   "source": [
    "We can see Error Terms are normally Distributed with mean Zero. Hence Model is Actaully obeying the assumption of Normality"
   ]
  },
  {
   "cell_type": "markdown",
   "id": "b50a37f8",
   "metadata": {},
   "source": [
    "**8.3 - Homoscedasticity**"
   ]
  },
  {
   "cell_type": "code",
   "execution_count": 376,
   "id": "b879d778",
   "metadata": {
    "ExecuteTime": {
     "end_time": "2022-07-13T14:07:07.313550Z",
     "start_time": "2022-07-13T14:07:06.958309Z"
    }
   },
   "outputs": [
    {
     "data": {
      "image/png": "[encoded data removed]",
      "text/plain": [
       "<Figure size 720x432 with 1 Axes>"
      ]
     },
     "metadata": {},
     "output_type": "display_data"
    }
   ],
   "source": [
    "plt.figure(figsize = (10, 6))\n",
    "sns.set_style(\"darkgrid\")\n",
    "sns.scatterplot(y_train, error)\n",
    "plt.plot(y_train, (y_train - y_train), '-r')\n",
    "plt.xlabel('Actual Values')\n",
    "plt.ylabel('Residual')\n",
    "plt.show()"
   ]
  },
  {
   "cell_type": "markdown",
   "id": "8f7c5e33",
   "metadata": {},
   "source": [
    "We can see there is no specific Pattern observed in the Error Terms, hence we can say Error terms are independent of each other"
   ]
  },
  {
   "cell_type": "markdown",
   "id": "e9156f0b",
   "metadata": {},
   "source": [
    "**8.4 - Independence of residuals**\n",
    "\n",
    "Autocorrelation occurs when the residuals are not independent of each other. To verify that the observations are not auto-correlated, we can use the Durbin-Watson test. The value of the test statistic lies between 0 and 4. The closer it is to 2, the less auto-correlation there is between the various variables\n",
    "- 0 – 2: positive auto-correlation\n",
    "- 2 – 4: negative auto-correlation\n",
    "\n",
    "From the Model Summary the Durbin-Watson value for model lr3 is `2.016`"
   ]
  },
  {
   "cell_type": "markdown",
   "id": "74d629a9",
   "metadata": {},
   "source": [
    "**8.5 - Absence of Multicollinearity**"
   ]
  },
  {
   "cell_type": "code",
   "execution_count": 377,
   "id": "ca328b3f",
   "metadata": {
    "ExecuteTime": {
     "end_time": "2022-07-13T14:07:08.718957Z",
     "start_time": "2022-07-13T14:07:07.319931Z"
    }
   },
   "outputs": [
    {
     "data": {
      "text/plain": [
       "<AxesSubplot:>"
      ]
     },
     "execution_count": 377,
     "metadata": {},
     "output_type": "execute_result"
    },
    {
     "data": {
      "image/png": "[encoded data removed]",
      "text/plain": [
       "<Figure size 432x288 with 2 Axes>"
      ]
     },
     "metadata": {},
     "output_type": "display_data"
    }
   ],
   "source": [
    "sns.heatmap(x_train_rfe.corr(), annot=True, fmt='.2f', cmap='GnBu') "
   ]
  },
  {
   "cell_type": "markdown",
   "id": "44823ad4",
   "metadata": {},
   "source": [
    "From the above heatmap we can say there is no corelation between the features and we saw that VIF values for all the features were below 5"
   ]
  },
  {
   "cell_type": "markdown",
   "id": "effb9391",
   "metadata": {},
   "source": [
    "## 9. Making Predictions Using the Final Model"
   ]
  },
  {
   "cell_type": "code",
   "execution_count": 378,
   "id": "a9d50657",
   "metadata": {
    "ExecuteTime": {
     "end_time": "2022-07-13T14:07:08.743870Z",
     "start_time": "2022-07-13T14:07:08.721016Z"
    }
   },
   "outputs": [],
   "source": [
    "# Scaling the test data because its trained on scaled data only\n",
    "numeric_vars = ['temp','atemp','hum','windspeed','cnt']\n",
    "data_test[numeric_vars] = scaler.transform(data_test[numeric_vars])"
   ]
  },
  {
   "cell_type": "code",
   "execution_count": 379,
   "id": "a6ae4c55",
   "metadata": {
    "ExecuteTime": {
     "end_time": "2022-07-13T14:07:09.008711Z",
     "start_time": "2022-07-13T14:07:08.747140Z"
    }
   },
   "outputs": [
    {
     "data": {
      "text/html": [
       "<div>\n",
       "<style scoped>\n",
       "    .dataframe tbody tr th:only-of-type {\n",
       "        vertical-align: middle;\n",
       "    }\n",
       "\n",
       "    .dataframe tbody tr th {\n",
       "        vertical-align: top;\n",
       "    }\n",
       "\n",
       "    .dataframe thead th {\n",
       "        text-align: right;\n",
       "    }\n",
       "</style>\n",
       "<table border=\"1\" class=\"dataframe\">\n",
       "  <thead>\n",
       "    <tr style=\"text-align: right;\">\n",
       "      <th></th>\n",
       "      <th>yr</th>\n",
       "      <th>holiday</th>\n",
       "      <th>workingday</th>\n",
       "      <th>temp</th>\n",
       "      <th>atemp</th>\n",
       "      <th>hum</th>\n",
       "      <th>windspeed</th>\n",
       "      <th>cnt</th>\n",
       "      <th>Fall</th>\n",
       "      <th>Summer</th>\n",
       "      <th>...</th>\n",
       "      <th>Oct</th>\n",
       "      <th>Sep</th>\n",
       "      <th>Friday</th>\n",
       "      <th>Monday</th>\n",
       "      <th>Saturday</th>\n",
       "      <th>Thursday</th>\n",
       "      <th>Tuesday</th>\n",
       "      <th>Wednesday</th>\n",
       "      <th>Clear</th>\n",
       "      <th>Mist</th>\n",
       "    </tr>\n",
       "  </thead>\n",
       "  <tbody>\n",
       "    <tr>\n",
       "      <th>count</th>\n",
       "      <td>183.000000</td>\n",
       "      <td>183.000000</td>\n",
       "      <td>183.000000</td>\n",
       "      <td>183.000000</td>\n",
       "      <td>183.000000</td>\n",
       "      <td>183.000000</td>\n",
       "      <td>183.000000</td>\n",
       "      <td>183.000000</td>\n",
       "      <td>183.000000</td>\n",
       "      <td>183.000000</td>\n",
       "      <td>...</td>\n",
       "      <td>183.000000</td>\n",
       "      <td>183.000000</td>\n",
       "      <td>183.000000</td>\n",
       "      <td>183.000000</td>\n",
       "      <td>183.000000</td>\n",
       "      <td>183.000000</td>\n",
       "      <td>183.000000</td>\n",
       "      <td>183.000000</td>\n",
       "      <td>183.000000</td>\n",
       "      <td>183.00000</td>\n",
       "    </tr>\n",
       "    <tr>\n",
       "      <th>mean</th>\n",
       "      <td>0.448087</td>\n",
       "      <td>0.027322</td>\n",
       "      <td>0.710383</td>\n",
       "      <td>0.522587</td>\n",
       "      <td>0.496471</td>\n",
       "      <td>0.623725</td>\n",
       "      <td>0.445953</td>\n",
       "      <td>0.476973</td>\n",
       "      <td>0.240437</td>\n",
       "      <td>0.251366</td>\n",
       "      <td>...</td>\n",
       "      <td>0.065574</td>\n",
       "      <td>0.065574</td>\n",
       "      <td>0.174863</td>\n",
       "      <td>0.131148</td>\n",
       "      <td>0.147541</td>\n",
       "      <td>0.131148</td>\n",
       "      <td>0.163934</td>\n",
       "      <td>0.136612</td>\n",
       "      <td>0.661202</td>\n",
       "      <td>0.31694</td>\n",
       "    </tr>\n",
       "    <tr>\n",
       "      <th>std</th>\n",
       "      <td>0.498662</td>\n",
       "      <td>0.163468</td>\n",
       "      <td>0.454829</td>\n",
       "      <td>0.231179</td>\n",
       "      <td>0.218059</td>\n",
       "      <td>0.147591</td>\n",
       "      <td>0.216902</td>\n",
       "      <td>0.231726</td>\n",
       "      <td>0.428521</td>\n",
       "      <td>0.434989</td>\n",
       "      <td>...</td>\n",
       "      <td>0.248215</td>\n",
       "      <td>0.248215</td>\n",
       "      <td>0.380892</td>\n",
       "      <td>0.338488</td>\n",
       "      <td>0.355617</td>\n",
       "      <td>0.338488</td>\n",
       "      <td>0.371232</td>\n",
       "      <td>0.344380</td>\n",
       "      <td>0.474600</td>\n",
       "      <td>0.46656</td>\n",
       "    </tr>\n",
       "    <tr>\n",
       "      <th>min</th>\n",
       "      <td>0.000000</td>\n",
       "      <td>0.000000</td>\n",
       "      <td>0.000000</td>\n",
       "      <td>0.047675</td>\n",
       "      <td>0.051010</td>\n",
       "      <td>0.193646</td>\n",
       "      <td>0.062325</td>\n",
       "      <td>-0.049378</td>\n",
       "      <td>0.000000</td>\n",
       "      <td>0.000000</td>\n",
       "      <td>...</td>\n",
       "      <td>0.000000</td>\n",
       "      <td>0.000000</td>\n",
       "      <td>0.000000</td>\n",
       "      <td>0.000000</td>\n",
       "      <td>0.000000</td>\n",
       "      <td>0.000000</td>\n",
       "      <td>0.000000</td>\n",
       "      <td>0.000000</td>\n",
       "      <td>0.000000</td>\n",
       "      <td>0.00000</td>\n",
       "    </tr>\n",
       "    <tr>\n",
       "      <th>25%</th>\n",
       "      <td>0.000000</td>\n",
       "      <td>0.000000</td>\n",
       "      <td>0.000000</td>\n",
       "      <td>0.319255</td>\n",
       "      <td>0.311788</td>\n",
       "      <td>0.518762</td>\n",
       "      <td>0.283505</td>\n",
       "      <td>0.278884</td>\n",
       "      <td>0.000000</td>\n",
       "      <td>0.000000</td>\n",
       "      <td>...</td>\n",
       "      <td>0.000000</td>\n",
       "      <td>0.000000</td>\n",
       "      <td>0.000000</td>\n",
       "      <td>0.000000</td>\n",
       "      <td>0.000000</td>\n",
       "      <td>0.000000</td>\n",
       "      <td>0.000000</td>\n",
       "      <td>0.000000</td>\n",
       "      <td>0.000000</td>\n",
       "      <td>0.00000</td>\n",
       "    </tr>\n",
       "    <tr>\n",
       "      <th>50%</th>\n",
       "      <td>0.000000</td>\n",
       "      <td>0.000000</td>\n",
       "      <td>1.000000</td>\n",
       "      <td>0.498465</td>\n",
       "      <td>0.490358</td>\n",
       "      <td>0.607986</td>\n",
       "      <td>0.426778</td>\n",
       "      <td>0.477967</td>\n",
       "      <td>0.000000</td>\n",
       "      <td>0.000000</td>\n",
       "      <td>...</td>\n",
       "      <td>0.000000</td>\n",
       "      <td>0.000000</td>\n",
       "      <td>0.000000</td>\n",
       "      <td>0.000000</td>\n",
       "      <td>0.000000</td>\n",
       "      <td>0.000000</td>\n",
       "      <td>0.000000</td>\n",
       "      <td>0.000000</td>\n",
       "      <td>1.000000</td>\n",
       "      <td>0.00000</td>\n",
       "    </tr>\n",
       "    <tr>\n",
       "      <th>75%</th>\n",
       "      <td>1.000000</td>\n",
       "      <td>0.000000</td>\n",
       "      <td>1.000000</td>\n",
       "      <td>0.728577</td>\n",
       "      <td>0.688345</td>\n",
       "      <td>0.717689</td>\n",
       "      <td>0.541285</td>\n",
       "      <td>0.644151</td>\n",
       "      <td>0.000000</td>\n",
       "      <td>0.500000</td>\n",
       "      <td>...</td>\n",
       "      <td>0.000000</td>\n",
       "      <td>0.000000</td>\n",
       "      <td>0.000000</td>\n",
       "      <td>0.000000</td>\n",
       "      <td>0.000000</td>\n",
       "      <td>0.000000</td>\n",
       "      <td>0.000000</td>\n",
       "      <td>0.000000</td>\n",
       "      <td>1.000000</td>\n",
       "      <td>1.00000</td>\n",
       "    </tr>\n",
       "    <tr>\n",
       "      <th>max</th>\n",
       "      <td>1.000000</td>\n",
       "      <td>1.000000</td>\n",
       "      <td>1.000000</td>\n",
       "      <td>0.965734</td>\n",
       "      <td>0.939531</td>\n",
       "      <td>1.002146</td>\n",
       "      <td>1.214955</td>\n",
       "      <td>0.980804</td>\n",
       "      <td>1.000000</td>\n",
       "      <td>1.000000</td>\n",
       "      <td>...</td>\n",
       "      <td>1.000000</td>\n",
       "      <td>1.000000</td>\n",
       "      <td>1.000000</td>\n",
       "      <td>1.000000</td>\n",
       "      <td>1.000000</td>\n",
       "      <td>1.000000</td>\n",
       "      <td>1.000000</td>\n",
       "      <td>1.000000</td>\n",
       "      <td>1.000000</td>\n",
       "      <td>1.00000</td>\n",
       "    </tr>\n",
       "  </tbody>\n",
       "</table>\n",
       "<p>8 rows × 30 columns</p>\n",
       "</div>"
      ],
      "text/plain": [
       "               yr     holiday  workingday        temp       atemp         hum  \\\n",
       "count  183.000000  183.000000  183.000000  183.000000  183.000000  183.000000   \n",
       "mean     0.448087    0.027322    0.710383    0.522587    0.496471    0.623725   \n",
       "std      0.498662    0.163468    0.454829    0.231179    0.218059    0.147591   \n",
       "min      0.000000    0.000000    0.000000    0.047675    0.051010    0.193646   \n",
       "25%      0.000000    0.000000    0.000000    0.319255    0.311788    0.518762   \n",
       "50%      0.000000    0.000000    1.000000    0.498465    0.490358    0.607986   \n",
       "75%      1.000000    0.000000    1.000000    0.728577    0.688345    0.717689   \n",
       "max      1.000000    1.000000    1.000000    0.965734    0.939531    1.002146   \n",
       "\n",
       "        windspeed         cnt        Fall      Summer  ...         Oct  \\\n",
       "count  183.000000  183.000000  183.000000  183.000000  ...  183.000000   \n",
       "mean     0.445953    0.476973    0.240437    0.251366  ...    0.065574   \n",
       "std      0.216902    0.231726    0.428521    0.434989  ...    0.248215   \n",
       "min      0.062325   -0.049378    0.000000    0.000000  ...    0.000000   \n",
       "25%      0.283505    0.278884    0.000000    0.000000  ...    0.000000   \n",
       "50%      0.426778    0.477967    0.000000    0.000000  ...    0.000000   \n",
       "75%      0.541285    0.644151    0.000000    0.500000  ...    0.000000   \n",
       "max      1.214955    0.980804    1.000000    1.000000  ...    1.000000   \n",
       "\n",
       "              Sep      Friday      Monday    Saturday    Thursday     Tuesday  \\\n",
       "count  183.000000  183.000000  183.000000  183.000000  183.000000  183.000000   \n",
       "mean     0.065574    0.174863    0.131148    0.147541    0.131148    0.163934   \n",
       "std      0.248215    0.380892    0.338488    0.355617    0.338488    0.371232   \n",
       "min      0.000000    0.000000    0.000000    0.000000    0.000000    0.000000   \n",
       "25%      0.000000    0.000000    0.000000    0.000000    0.000000    0.000000   \n",
       "50%      0.000000    0.000000    0.000000    0.000000    0.000000    0.000000   \n",
       "75%      0.000000    0.000000    0.000000    0.000000    0.000000    0.000000   \n",
       "max      1.000000    1.000000    1.000000    1.000000    1.000000    1.000000   \n",
       "\n",
       "        Wednesday       Clear       Mist  \n",
       "count  183.000000  183.000000  183.00000  \n",
       "mean     0.136612    0.661202    0.31694  \n",
       "std      0.344380    0.474600    0.46656  \n",
       "min      0.000000    0.000000    0.00000  \n",
       "25%      0.000000    0.000000    0.00000  \n",
       "50%      0.000000    1.000000    0.00000  \n",
       "75%      0.000000    1.000000    1.00000  \n",
       "max      1.000000    1.000000    1.00000  \n",
       "\n",
       "[8 rows x 30 columns]"
      ]
     },
     "execution_count": 379,
     "metadata": {},
     "output_type": "execute_result"
    }
   ],
   "source": [
    "data_test.describe()"
   ]
  },
  {
   "cell_type": "code",
   "execution_count": 380,
   "id": "28b17d45",
   "metadata": {
    "ExecuteTime": {
     "end_time": "2022-07-13T14:07:09.030595Z",
     "start_time": "2022-07-13T14:07:09.014386Z"
    }
   },
   "outputs": [],
   "source": [
    "# Splitting the data \n",
    "y_test = data_test.pop('cnt')\n",
    "x_test = data_test"
   ]
  },
  {
   "cell_type": "code",
   "execution_count": 381,
   "id": "85ab76c0",
   "metadata": {
    "ExecuteTime": {
     "end_time": "2022-07-13T14:07:09.074560Z",
     "start_time": "2022-07-13T14:07:09.035587Z"
    }
   },
   "outputs": [
    {
     "name": "stdout",
     "output_type": "stream",
     "text": [
      "<class 'pandas.core.frame.DataFrame'>\n",
      "Int64Index: 183 entries, 468 to 294\n",
      "Data columns (total 9 columns):\n",
      " #   Column     Non-Null Count  Dtype  \n",
      "---  ------     --------------  -----  \n",
      " 0   const      183 non-null    float64\n",
      " 1   yr         183 non-null    int64  \n",
      " 2   holiday    183 non-null    int64  \n",
      " 3   temp       183 non-null    float64\n",
      " 4   windspeed  183 non-null    float64\n",
      " 5   Summer     183 non-null    uint8  \n",
      " 6   Winter     183 non-null    uint8  \n",
      " 7   Sep        183 non-null    uint8  \n",
      " 8   Clear      183 non-null    uint8  \n",
      "dtypes: float64(3), int64(2), uint8(4)\n",
      "memory usage: 9.3 KB\n"
     ]
    }
   ],
   "source": [
    "# Getting the columns\n",
    "model_col = x_train_rfe.columns\n",
    "x_test=x_test[model_col]\n",
    "x_test_lm = sm.add_constant(x_test)\n",
    "x_test_lm.info()"
   ]
  },
  {
   "cell_type": "code",
   "execution_count": 382,
   "id": "62add96b",
   "metadata": {
    "ExecuteTime": {
     "end_time": "2022-07-13T14:07:09.104226Z",
     "start_time": "2022-07-13T14:07:09.079933Z"
    }
   },
   "outputs": [],
   "source": [
    "# Making predictions on test set\n",
    "y_test_pred = lr.predict(x_test_lm)"
   ]
  },
  {
   "cell_type": "markdown",
   "id": "ffe81a9e",
   "metadata": {},
   "source": [
    "## 10. Model Evaluation"
   ]
  },
  {
   "cell_type": "code",
   "execution_count": 383,
   "id": "abf36399",
   "metadata": {
    "ExecuteTime": {
     "end_time": "2022-07-13T14:07:09.602640Z",
     "start_time": "2022-07-13T14:07:09.112386Z"
    }
   },
   "outputs": [
    {
     "data": {
      "image/png": "[encoded data removed]",
      "text/plain": [
       "<Figure size 720x432 with 1 Axes>"
      ]
     },
     "metadata": {},
     "output_type": "display_data"
    }
   ],
   "source": [
    "# Plotting y_test and y_test_pred to understand the spread.\n",
    "plt.figure(figsize = (10,6))\n",
    "sns.set_style(\"darkgrid\")\n",
    "sns.regplot(y_test, y_test_pred)\n",
    "plt.title('Actual vs Predicted Rent of Bikes Count')\n",
    "plt.xlabel('Actual Rent of Bikes Count')\n",
    "plt.ylabel('Predicted Rent of Bikes Count')\n",
    "plt.show()"
   ]
  },
  {
   "cell_type": "markdown",
   "id": "50050efd",
   "metadata": {},
   "source": [
    "In the above Scatter plot it shows the linear relationship between Actual Count and Predicted Count and the spread is very minimal"
   ]
  },
  {
   "cell_type": "code",
   "execution_count": 384,
   "id": "3ad4d438",
   "metadata": {
    "ExecuteTime": {
     "end_time": "2022-07-13T14:07:09.621838Z",
     "start_time": "2022-07-13T14:07:09.606056Z"
    }
   },
   "outputs": [
    {
     "name": "stdout",
     "output_type": "stream",
     "text": [
      "Train set -> 0.8027\n",
      "Test set -> 0.7916\n"
     ]
    }
   ],
   "source": [
    "# Checking the R2 Score of the model for both test & train\n",
    "print('Train set ->', round(r2_score(y_train, y_train_pred), 4))\n",
    "print('Test set ->', round(r2_score(y_test, y_test_pred), 4))"
   ]
  },
  {
   "cell_type": "markdown",
   "id": "06d3cf7e",
   "metadata": {},
   "source": [
    "### The equation of best fitted surface based on model:\n",
    "\n",
    "cnt = (0.248378 x yr) - (0.088947 x holiday) + (0.597752 x temp) − (0.114347 x windspeed) + (0.099411 x Summer) + (0.143651 x Winter) + (0.105782 x Sep) + (0.096208 x Clear) - 0.042015"
   ]
  },
  {
   "cell_type": "markdown",
   "id": "9bbdd481",
   "metadata": {},
   "source": [
    "### Top 5 predictor variables that influences bike booking are:\n",
    "- Temperature\n",
    "- Year\n",
    "- Winter\n",
    "- September\n",
    "- Summer"
   ]
  },
  {
   "cell_type": "markdown",
   "id": "cf9ae3e2",
   "metadata": {},
   "source": [
    "### OBSERVATIONS\n",
    "- Temperature is the Most Significant Feature which affects the Business positively\n",
    "- Other Environmental condition such as Raining, Humidity, Windspeed and Cloudy affects the Business negatively.\n",
    "- The Demand of Bikes is more in the Winter and Summer season, mostly user don't like to travel using Bikes in Rainy Season. \n",
    "- Most of the people rent the bikes in September.\n",
    "- Most of the people use bikes on Saturday more than other usual days\n",
    "- Holidays have negative impact on the rentals\n",
    "- Demand of Bike Rent has been significantly increased in the 2019 than 2018"
   ]
  },
  {
   "cell_type": "code",
   "execution_count": null,
   "id": "808d4b3f",
   "metadata": {},
   "outputs": [],
   "source": []
  }
 ],
 "metadata": {
  "kernelspec": {
   "display_name": "Python 3 (ipykernel)",
   "language": "python",
   "name": "python3"
  },
  "language_info": {
   "codemirror_mode": {
    "name": "ipython",
    "version": 3
   },
   "file_extension": ".py",
   "mimetype": "text/x-python",
   "name": "python",
   "nbconvert_exporter": "python",
   "pygments_lexer": "ipython3",
   "version": "3.9.12"
  }
 },
 "nbformat": 4,
 "nbformat_minor": 5
}
